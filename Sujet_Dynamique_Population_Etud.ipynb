{
 "cells": [
  {
   "cell_type": "code",
   "execution_count": 1,
   "metadata": {},
   "outputs": [],
   "source": [
    "%matplotlib inline     \n",
    "# ^Sans animations\n",
    "# %matplotlib notebook \n",
    "# ^Avec animations\n",
    "import numpy as np\n",
    "import matplotlib.pyplot as plt\n",
    "from matplotlib import animation"
   ]
  },
  {
   "cell_type": "markdown",
   "metadata": {},
   "source": [
    "# Dynamique de population et Génétique"
   ]
  },
  {
   "cell_type": "markdown",
   "metadata": {},
   "source": [
    "*Sujet d'ARE Dynamic 2019*"
   ]
  },
  {
   "cell_type": "markdown",
   "metadata": {},
   "source": [
    "# 1. Modèle de Galton-Watson "
   ]
  },
  {
   "cell_type": "markdown",
   "metadata": {},
   "source": [
    "[Francis Galton](https://fr.wikipedia.org/wiki/Francis_Galton) (1822-1911) est un scientifique anglais touche-à-tout, ayant des contributions de l'anthropologie à la psychologie en passant par les statistiques. Il consacre une part importante de ses recherches à défendre la théorie de l'évolution de son cousin, Charles Darwin. Il est considéré comme l'un des fondateurs de la biométrie, il découvre l'identification par empreintes digitales, cependant il est aussi l'un des fondateurs de l'[eugénisme](https://fr.wikipedia.org/wiki/Eug%C3%A9nisme) et soutient des politiques publiques peu glorieuses. \n",
    "\n",
    "Au cours du XIXème siècle il s'intéresse à la disparition des patronymes. Pour ce faire, il introduit le [modèle de Galton-Watson](https://fr.wikipedia.org/wiki/Processus_de_Galton-Watson) permettant de modéliser la dynamique d'une population. Introduit une première fois en 1845 par [Irénée-Jules Bienaymé](https://fr.wikipedia.org/wiki/Ir%C3%A9n%C3%A9e-Jules_Bienaym%C3%A9).\n",
    "\n",
    "### Comment modéliser un tel phénomène ?\n",
    "\n",
    "Considérons un ensemble d'**individus** formant une **population**. Par soucis de simplicité nous faisons abstraction des modalités de reproduction, couple, genre, etc...  \n",
    "Chaque individu de la population est modélisé par une **variable** $X$ représentant sa capacité de reproduction, c'est-à-dire son nombre de descendants.  \n",
    "Chaque individu de la population peut avoir $k$ descendants avec probabilité $p_k$ : $\\mathbb{P}(X = k) = p_k$ avec $\\sum_k p_k =1$.  "
   ]
  },
  {
   "cell_type": "markdown",
   "metadata": {},
   "source": [
    "Commençons par modéliser un individu : la variable $X$."
   ]
  },
  {
   "cell_type": "code",
   "execution_count": 3,
   "metadata": {},
   "outputs": [],
   "source": [
    "# Dictionnaire représentant la distribution de probabilité des descendants.\n",
    "# clef = nombre de descendants et valeur = probabilité\n",
    "p = {0 : 0.1,\n",
    "     1 : 0.3,\n",
    "     2 : 0.4,\n",
    "     3 : 0.2}\n",
    "\n",
    "# Let's assert that this is a probalitiy distribution:\n",
    "np.testing.assert_almost_equal(sum(p.values()),1)"
   ]
  },
  {
   "cell_type": "code",
   "execution_count": 273,
   "metadata": {},
   "outputs": [],
   "source": [
    "def number_of_descendants(p):\n",
    "    '''\n",
    "    dict[int:float]->int\n",
    "    Étant donnée une distibution de probabilité 'p', la fonction retourne le nombre de descendants d'un individu.\n",
    "    '''\n",
    "    u = np.random.random()\n",
    "    s = 0\n",
    "    for k in p.keys():\n",
    "        s += p[k]\n",
    "        if u < s:\n",
    "            return k"
   ]
  },
  {
   "cell_type": "markdown",
   "metadata": {},
   "source": [
    "**Question 1.1 :** Remplacer la distribution $p$ par une distribution qui vous semble cohérente, puis tester cette fonction. (Par exemple, vous pourrez tirer un certain nombre de fois un nombre de descendants selon cette fonction, puis vérifier que la distribution observée est conforme.)"
   ]
  },
  {
   "cell_type": "code",
   "execution_count": 274,
   "metadata": {},
   "outputs": [
    {
     "data": {
      "text/plain": [
       "2"
      ]
     },
     "execution_count": 274,
     "metadata": {},
     "output_type": "execute_result"
    }
   ],
   "source": [
    "number_of_descendants({0 : 0.1,1 : 0.3,2 : 0.4,3 : 0.2})"
   ]
  },
  {
   "cell_type": "markdown",
   "metadata": {},
   "source": [
    "Modélisons maintenant cette population et son évolution au fil des générations.  \n",
    "Soit $Z_n$ la population de la n-ème génération. $Z_{n+1} = \\sum_{i=1}^{Z_n}X$."
   ]
  },
  {
   "cell_type": "code",
   "execution_count": 275,
   "metadata": {},
   "outputs": [],
   "source": [
    "\n",
    "def update_population(Z,p):\n",
    "    '''\n",
    "    int*dict[int:float]->int\n",
    "    Étant donnés un nombre d'individus 'C' et une distibution de probabilité de descendants 'p',\n",
    "    la fonction retourne le nombre d'individus à la prochaine génération.\n",
    "    '''\n",
    "    Z_new = 0\n",
    "    for k in range(Z):\n",
    "        #sum up all the descendants over all the population Z\n",
    "        Z_new += number_of_descendants(p)\n",
    "    return Z_new\n"
   ]
  },
  {
   "cell_type": "markdown",
   "metadata": {},
   "source": [
    "**Question 1.2 :** Compléter la fonction \"population_n_generations\" ci-dessous qui, étant donné un nombre d'invidus de départ $Z_0$, une distribution de probabilité de descendants $p$ et un nombre de générations $n$, retourne une liste $L$ telle que $L[i]$ soit le nombre d'individus à la génération $i$ pour $i$ de $0$ à $n-1$."
   ]
  },
  {
   "cell_type": "code",
   "execution_count": 276,
   "metadata": {},
   "outputs": [
    {
     "name": "stdout",
     "output_type": "stream",
     "text": [
      "[20, 33, 55, 87, 144, 238, 410, 708, 1226, 2080]\n"
     ]
    }
   ],
   "source": [
    "\n",
    "def population_n_generations(Z0,p,n):\n",
    "    \"\"\"\n",
    "     int*dict[int:float]*int->list[int]\n",
    "     ...\n",
    "    \"\"\"\n",
    "    s=Z0\n",
    "    L=[Z0]\n",
    "    for i in range(n-1):\n",
    "        s=update_population(s,p)\n",
    "        L.append(s)\n",
    "    return L\n",
    "\n",
    "#test pour 10 générations, population initiale 20 individus\n",
    "Z0 = 20\n",
    "n = 10\n",
    "print(population_n_generations(Z0,p,n))"
   ]
  },
  {
   "cell_type": "markdown",
   "metadata": {},
   "source": [
    "À présent, visualisons l'évolution de cette population. Vous pouvez changer $n$, $Z_0$ et $p$."
   ]
  },
  {
   "cell_type": "code",
   "execution_count": 277,
   "metadata": {},
   "outputs": [
    {
     "data": {
      "image/png": "[encoded data removed]",
      "text/plain": [
       "<Figure size 432x288 with 1 Axes>"
      ]
     },
     "metadata": {},
     "output_type": "display_data"
    }
   ],
   "source": [
    "n = 300\n",
    "Z0 = 100\n",
    "p = {0 : 0.4,\n",
    "     1 : 0.3,\n",
    "     2 : 0.2,\n",
    "     3 : 0.1}\n",
    "np.testing.assert_almost_equal(sum(p.values()),1)\n",
    "\n",
    "def plot_population(L):\n",
    "    '''\n",
    "    ??-> None\n",
    "    Visualise the evolution of the population in 'L'\n",
    "    '''\n",
    "    plt.figure()\n",
    "    plt.plot(L)\n",
    "    plt.ylabel(\"Taille Population\")\n",
    "    plt.xlabel(\"Génération\")\n",
    "    plt.show()\n",
    "    return\n",
    "\n",
    "    \n",
    "L=population_n_generations(Z0,p,n)\n",
    "plot_population(L)"
   ]
  },
  {
   "cell_type": "markdown",
   "metadata": {},
   "source": [
    "**Question 1.3** : Pour la capacité de reproduction $p$ donnée en exemple, observez-vous toujours une extinction de la population ?  Si c'est le cas, déterminez combien de générations sont nécessaires *en moyenne* avant que la population ne s'éteigne ?\n",
    "\n",
    "\n",
    "\n",
    "\n",
    "\n",
    "~120 générations (pour 10 tests)"
   ]
  },
  {
   "cell_type": "markdown",
   "metadata": {},
   "source": [
    "On appelle espérance d'une variable discrète $X$ : $\\mathbb{E}[X] = \\sum_k p_kk$"
   ]
  },
  {
   "cell_type": "markdown",
   "metadata": {},
   "source": [
    "**Question 1.4**: Compléter la fonction \"esperance\" ci-dessous permettant de calculer l'espérance d'une variable discrète $X$."
   ]
  },
  {
   "cell_type": "code",
   "execution_count": 278,
   "metadata": {},
   "outputs": [
    {
     "name": "stdout",
     "output_type": "stream",
     "text": [
      "1.5000000000000002\n"
     ]
    }
   ],
   "source": [
    "def esperance(p):\n",
    "    \"\"\"\n",
    "    dict[int:float]->float\n",
    "    ...\n",
    "    \"\"\"\n",
    "    e=0\n",
    "    for k in p.keys():\n",
    "        e += k*p[k]   \n",
    "    return e\n",
    "print(esperance({0 : 0.1,\n",
    "     1 : 0.4,\n",
    "     2 : 0.4,\n",
    "     3 : 0.1}\n",
    "))"
   ]
  },
  {
   "cell_type": "markdown",
   "metadata": {},
   "source": [
    "**Question 1.5**: Prenez à présent une capacité de reproduction dont l'espérance est 1.5 (testez que c'est bien le cas à l'aide de votre fonction précédente), et reproduisez l'expérience de la question 1.3. "
   ]
  },
  {
   "cell_type": "markdown",
   "metadata": {},
   "source": [
    "**Question 1.6** : Jouer sur le paramètre $e = \\mathbb{E}[X]$ et déterminer une valeure qui semble jouer un rôle critique dans le fait que la population va s'éteindre ou pas.\n",
    "\n",
    "e=1"
   ]
  },
  {
   "cell_type": "markdown",
   "metadata": {},
   "source": [
    "**Question 1.7** : Que se passe-t-il lorsque $Z_0$ et $n$ sont grands ?\n",
    "Lorsque Z0 est grand, la part d'aléatoire dans l'évolution de la population est faible, et lorsque n est grand, la probabilité que la tendance attendue ne soit pas respectée car on n'a pas regardé suffisamment longtemps est faible. "
   ]
  },
  {
   "cell_type": "markdown",
   "metadata": {},
   "source": [
    "# 2. Island Model"
   ]
  },
  {
   "cell_type": "markdown",
   "metadata": {},
   "source": [
    "Dans cette seconde partie, le but est d'analyser la répartition et la dissémination des allèles au sein d'une population, répartie dans différentes zones géographiques, tout en prenant en compte les migrations.  \n",
    "\n",
    "**Rappel :** Un allèle est une version variable d'un même gène. En général, il existe deux allèles pour chaque gène. Par exemple : si nous possèdons l'allèle brun nous avons les cheveux bruns, si nous ne l'avons pas nous avons les cheveux blonds. (extrême simplification, ne pas répéter à un biologiste).\n",
    "\n",
    "Imaginons trois iles distinctes $A$, $B$ et $C$, sur chaque île réside une population distincte. Dans chaque population nous constatons une proportion différente de personne possédant un certain allèle. La distribution de cet allèle est notée par : $p_i$ pour $i\\in \\{A,B,C\\}$.\n"
   ]
  },
  {
   "cell_type": "markdown",
   "metadata": {},
   "source": [
    "![Island Model](Island_Model.png \"Island_Model\")"
   ]
  },
  {
   "cell_type": "markdown",
   "metadata": {},
   "source": [
    "Par exemple : $p_A$ représente le pourcentage de la population de l'ile $A$ ayant les cheveux bruns.  \n",
    "\n",
    "**Hypothèse 1:** La population globale $Z$ est considérée comme fixe et équirépartie entre les trois îles, chaque île comporte donc $Z/3$ individus. \n",
    "La population étant considérée comme stable, chaque individu laisse place à un seul individu à la génération suivante. Dans un premier temps nous ignorons donc le renouvelement de la population.  \n",
    "\n",
    "Nous observons une migration d'une **fraction** $m$ d'une île à une autre au fil des générations, celle-ci est cependant équilibrée, à double sens, le nombre d'invidus par île ne varie donc pas. Par exmple, pour $m=0.1$, à chaque génération $10\\%$ de la population va migrer de chaque île vers les autres. Cette fraction ne peut donc pas excéder $0.5$ (dans ce cas la totalité de la population migre de chaque île). \n",
    "\n",
    "Dans cette partie, nous chercherons à répondre à la question suivante : Comment les migrations impactent la distribution d'un allèle au sein des 3 îles ?\n"
   ]
  },
  {
   "cell_type": "markdown",
   "metadata": {},
   "source": [
    "Modélisons l'évolution de la proportion de la population possédant notre allèle (les cheveux bruns) au sein de chaque île. Notons par $p_{A,n}$ la distribution de notre allèle dans l'ile $A$ à la génération $n$.  \n",
    "\n",
    "On a $p_{A,n+1} = \\frac{p_{A,n}\\frac{Z}{3}(1 - 2m) + p_{B,n}\\frac{Z}{3}m + p_{C,n}\\frac{Z}{3}m}{\\frac{Z}{3}}$  \n",
    "\n",
    "et donc $p_{A,n+1} = p_{A,n}(1 - 2m) + p_{B,n}m + p_{C,n}m$."
   ]
  },
  {
   "cell_type": "markdown",
   "metadata": {},
   "source": [
    "**Question 2.1 :** Expliquer cette formule. Quant est-il pour $p_{B,n+1}$ et $p_{C,n+1}$ ?\n",
    "\n",
    "On retrouve la formule : $p_{A,n+1}$ = $p_{A,n}$ * proportion de personnes venant de l'ile A   +   $p_{B,n}$ * proportion de personnes venant de l'ile B   +   $p_{C,n}$ * proportion de personnes venant de l'ile C\n",
    "\n",
    "$p_{B,n+1} = p_{B,n}(1 - 2m) + p_{A,n}m + p_{C,n}m$\n",
    "\n",
    "\n",
    "$p_{C,n+1} = p_{C,n}(1 - 2m) + p_{A,n}m + p_{B,n}m$"
   ]
  },
  {
   "cell_type": "code",
   "execution_count": 279,
   "metadata": {},
   "outputs": [],
   "source": [
    "# Nous utiliserons les paramètres suivants.\n",
    "\n",
    "m = 0.01 # coefficient de migration\n",
    "\n",
    "p = {'A' : 0.5,\n",
    "    'B' : 0.2,\n",
    "    'C' : 0.8} # Initial probability to have brown hair"
   ]
  },
  {
   "cell_type": "markdown",
   "metadata": {},
   "source": [
    "**Question 2.2 :** Corriger la fonction *update_genetics* ci-dessous qui prend en entrée un dictionaire $p$ (représentant la proportion d'individus ayant les cheveux bruns dans chacune des trois îles à un instant donné), une fraction de migration $m$ et retourne la proportion d'individus ayant les cheveux bruns dans chacune des trois îles à l'instant suivant sous la forme d'un dictionaire."
   ]
  },
  {
   "cell_type": "code",
   "execution_count": 280,
   "metadata": {},
   "outputs": [],
   "source": [
    "def update_genetics(p,m):\n",
    "    '''\n",
    "    dict[str:float]*float->dict[str:float]\n",
    "    Update the population's genetics \n",
    "    '''\n",
    "    p_new={}\n",
    "    p_new['A'] = p['A']*(1-2*m)+p['B']*m+p['C']*m\n",
    "    p_new['B'] = p['B']*(1-2*m)+p['A']*m+p['C']*m\n",
    "    p_new['C'] = p['C']*(1-2*m)+p['A']*m+p['B']*m\n",
    "    return p_new"
   ]
  },
  {
   "cell_type": "markdown",
   "metadata": {},
   "source": [
    "**Question 2.3 :** Compléter la signature et la description de la fonction *genetics_n_migrations* suivante."
   ]
  },
  {
   "cell_type": "code",
   "execution_count": 281,
   "metadata": {},
   "outputs": [],
   "source": [
    "def genetics_n_migrations(p,m,n):\n",
    "    '''\n",
    "    dict[str:float]*float*int -> list[dict[str:float]]\n",
    "    Retourne la liste des dictionnaires représentant la proportion d'individus ayant les cheveux bruns dans chacune des trois îles à chaque génération\n",
    "    '''\n",
    "    keys=[\"A\",\"B\",\"C\"] \n",
    "    M = []\n",
    "    M.append([p[k] for k in keys])\n",
    "    for i in range(1,n):\n",
    "        p = update_genetics(p,m)\n",
    "        M.append([p[k] for k in keys])\n",
    "    return M"
   ]
  },
  {
   "cell_type": "markdown",
   "metadata": {},
   "source": [
    "A présent visualisons la fréquence de l'allèle au cours du temps."
   ]
  },
  {
   "cell_type": "code",
   "execution_count": 282,
   "metadata": {
    "scrolled": true
   },
   "outputs": [
    {
     "data": {
      "image/png": "[encoded data removed]",
      "text/plain": [
       "<Figure size 432x288 with 1 Axes>"
      ]
     },
     "metadata": {},
     "output_type": "display_data"
    }
   ],
   "source": [
    "p = {'A' : 0.5,\n",
    "    'B' : 0.4,\n",
    "    'C' : 0.8}\n",
    "\n",
    "m = 0.01 # Ratio of the population that migrate every generation\n",
    "\n",
    "n = 300\n",
    "\n",
    "M = genetics_n_migrations(p,m,n)\n",
    "\n",
    "def plot_genetics(M,p):\n",
    "    plt.figure()\n",
    "    plt.plot(M)\n",
    "    plt.legend([\"Island \"+i for i in p])\n",
    "    plt.xlabel(\"Génération\")\n",
    "    plt.ylabel(\"Fréquence allèle dans population\")\n",
    "    plt.show()\n",
    "    return\n",
    "plot_genetics(M,p)"
   ]
  },
  {
   "cell_type": "markdown",
   "metadata": {},
   "source": [
    "**Questions 2.4:** Modifier $p_A,p_B,p_C$ ainsi que le taux de migration $m$ et décrire les différents phénomènes observés.\n",
    "\n",
    "Les populations des trois iles s'homogeneisent."
   ]
  },
  {
   "cell_type": "markdown",
   "metadata": {},
   "source": [
    "On peut complexifier la modélisation en faisant varier le nombre d'îles ou bien les taux de migrations entre îles : $m$ $\\rightarrow$ $m_{A,B}, m_{B,C}, m_{C,A}$."
   ]
  },
  {
   "cell_type": "markdown",
   "metadata": {},
   "source": [
    "### Variante  1 : Nombre d'îles variable :"
   ]
  },
  {
   "cell_type": "markdown",
   "metadata": {},
   "source": [
    "**Question 2.5 (facultatif) :** Adapter les fonctions précédentes pour un nombre d'îles arbitraire. "
   ]
  },
  {
   "cell_type": "code",
   "execution_count": 109,
   "metadata": {},
   "outputs": [],
   "source": [
    "p = {'A' : 0.5,\n",
    "    'B' : 0.2,\n",
    "    'C' : 0.8,\n",
    "    'D' : 0.9}\n",
    "m = 0.01\n",
    "\n",
    "def update_genetics_nIles(p,m,nIles):\n",
    "    '''\n",
    "    dict[str:float]*float->dict[str:float]\n",
    "    Update the population's genetics \n",
    "    '''\n",
    "    p_new=p.copy()\n",
    "    p_mig = 0 # proportion des allèles bruns des polpulations arrivant sur la nouvelle ile\n",
    "    for i in range(65,nIles+65): \n",
    "        # On part de 65 pour avoir comme premier caractere dans le dictionnaire 'A'\n",
    "        for k in range(66,nIles+65):\n",
    "            p_mig+=(p_new[chr(k)]*m)\n",
    "        \n",
    "        \n",
    "        p_new[chr(i)] = p[chr(i)]*(1-(nIles-1)*m) + p_mig\n",
    "        p_mig=0\n",
    "        \n",
    "    \n",
    "    \n",
    "    return p_new"
   ]
  },
  {
   "cell_type": "code",
   "execution_count": 110,
   "metadata": {},
   "outputs": [
    {
     "data": {
      "text/plain": [
       "{'A': 0.504, 'B': 0.21300000000000002, 'C': 0.79513, 'D': 0.8920813}"
      ]
     },
     "execution_count": 110,
     "metadata": {},
     "output_type": "execute_result"
    }
   ],
   "source": [
    "update_genetics_nIles(p,m,4)"
   ]
  },
  {
   "cell_type": "code",
   "execution_count": 111,
   "metadata": {},
   "outputs": [],
   "source": [
    "def genetics_n_migrations_nIles(p,m,n,nIles):\n",
    "    '''\n",
    "    dict[str:float]*float*int -> list[dict[str:float]]\n",
    "    Retourne la liste des dictionnaires représentant la proportion d'individus ayant les cheveux bruns dans chacune des trois îles à chaque génération\n",
    "    '''\n",
    "    keys=[]\n",
    "    for i in range(65,65+nIles):\n",
    "        keys.append(chr(i))\n",
    "    M=[]\n",
    "    M.append([p[k] for k in keys])\n",
    "    for i in range(1,n):\n",
    "        p = update_genetics_nIles(p,m,nIles)\n",
    "        M.append([p[k] for k in keys])\n",
    "    return M\n",
    "\n",
    "    "
   ]
  },
  {
   "cell_type": "code",
   "execution_count": 112,
   "metadata": {},
   "outputs": [
    {
     "data": {
      "text/plain": [
       "[[0.5, 0.2, 0.8, 0.9],\n",
       " [0.504, 0.21300000000000002, 0.79513, 0.8920813],\n",
       " [0.507882113, 0.225612113, 0.79040433413, 0.8843998384713],\n",
       " [0.5116498124660129,\n",
       "  0.237847912466013,\n",
       "  0.7858187249567731,\n",
       "  0.8769485080761018],\n",
       " [0.5153064695470214,\n",
       "  0.24971862654702148,\n",
       "  0.7813690218038688,\n",
       "  0.8697204143980887],\n",
       " [0.5188553560881005,\n",
       "  0.26123514837810063,\n",
       "  0.7770511969955534,\n",
       "  0.8627088695638634],\n",
       " [0.5222996475548327,\n",
       "  0.2724080460761328,\n",
       "  0.7728613422120422,\n",
       "  0.8559073860554679],\n",
       " [0.5256424258716241,\n",
       "  0.2832475724372852,\n",
       "  0.7687956649527289,\n",
       "  0.8493096707082587],\n",
       " [0.5288866821764582,\n",
       "  0.2937636743451494,\n",
       "  0.7648504851042084,\n",
       "  0.8429096188885871],\n",
       " [0.5320353194945439,\n",
       "  0.30396600189817435,\n",
       "  0.7610222316099917,\n",
       "  0.836701308845897],\n",
       " [0.5350911553332482,\n",
       "  0.31386391726476975,\n",
       "  0.7573074392388984,\n",
       "  0.8306789962340158],\n",
       " [0.5380569242006277,\n",
       "  0.32346650327420345,\n",
       "  0.7537027454492026,\n",
       "  0.8248371087965695],\n",
       " [0.5409352800498086,\n",
       "  0.3327825717511771,\n",
       "  0.750204887345696,\n",
       "  0.8191702412116069],\n",
       " [0.5437287986513991,\n",
       "  0.3418206716017266,\n",
       "  0.7468106987269154,\n",
       "  0.8136731500906611],\n",
       " [0.5464399798960502,\n",
       "  0.3505890966578678,\n",
       "  0.7435171072198624,\n",
       "  0.8083407491276251],\n",
       " [0.5490712500292222,\n",
       "  0.3590958932881853,\n",
       "  0.7403211314996232,\n",
       "  0.8031681043929506],\n",
       " [0.551624963820153,\n",
       "  0.36734886778134734,\n",
       "  0.7372198785913736,\n",
       "  0.7981504297688188],\n",
       " [0.5541034066669639,\n",
       "  0.3753555935093223,\n",
       "  0.7342105412523275,\n",
       "  0.793283082521059],\n",
       " [0.556508796639782,\n",
       "  0.3831234178768697,\n",
       "  0.7312903954312602,\n",
       "  0.788561559003719],\n",
       " [0.558843286463707,\n",
       "  0.3906594690636821,\n",
       "  0.728456797803309,\n",
       "  0.7839814904923146],\n",
       " [0.5611089654433888,\n",
       "  0.3979706625653647,\n",
       "  0.7257071833778196,\n",
       "  0.7795386391419001],\n",
       " [0.5633078613309379,\n",
       "  0.4050637075392546,\n",
       "  0.7230390631770747,\n",
       "  0.7752288940662254],\n",
       " [0.5654419421388354,\n",
       "  0.41194511296090247,\n",
       "  0.7204500219838045,\n",
       "  0.771048267534348],\n",
       " [0.5675131178994608,\n",
       "  0.41862119359686595,\n",
       "  0.7179377161554404,\n",
       "  0.766992891281184],\n",
       " [0.5695232423728118,\n",
       "  0.42509807579929487,\n",
       "  0.7154998715031364,\n",
       "  0.7630590129285846],\n",
       " [0.5714741147039376,\n",
       "  0.43138170312762614,\n",
       "  0.7131342812336358,\n",
       "  0.7592429925136255],\n",
       " [0.5733674810315684,\n",
       "  0.43747784180254623,\n",
       "  0.7108388039521247,\n",
       "  0.7555412991208996],\n",
       " [0.5752050360493771,\n",
       "  0.4433920859972255,\n",
       "  0.7086113617242634,\n",
       "  0.7519505076156966],\n",
       " [0.5769884245212676,\n",
       "  0.4491298629706806,\n",
       "  0.7064499381956418,\n",
       "  0.7484672954750459],\n",
       " [0.5787192427520433,\n",
       "  0.4546964380479739,\n",
       "  0.7043525767669592,\n",
       "  0.7450884397136943],\n",
       " [0.5803990400147684,\n",
       "  0.4600969194518209,\n",
       "  0.702317378823275,\n",
       "  0.7418108139021713],\n",
       " [0.5820293199360981,\n",
       "  0.46533626299003894,\n",
       "  0.7003425020157316,\n",
       "  0.7386313852741855],\n",
       " [0.5836115418408147,\n",
       "  0.4704192766031373,\n",
       "  0.6984261585941902,\n",
       "  0.735547211920675],\n",
       " [0.5851471220567702,\n",
       "  0.4753506247762232,\n",
       "  0.6965666137892754,\n",
       "  0.7325554400679164],\n",
       " [0.5866374351814013,\n",
       "  0.48013483281927066,\n",
       "  0.6947621842423617,\n",
       "  0.7296533014371743],\n",
       " [0.5880838153109473,\n",
       "  0.48477629101968056,\n",
       "  0.693011236482083,\n",
       "  0.7268381106834484],\n",
       " [0.589487557233471,\n",
       "  0.48927925867094224,\n",
       "  0.6913121854459852,\n",
       "  0.7241072629109487],\n",
       " [0.5908499175867457,\n",
       "  0.4936478679810927,\n",
       "  0.689663493045986,\n",
       "  0.7214582312630006],\n",
       " [0.592172115982044,\n",
       "  0.4978861278645607,\n",
       "  0.6880636667763419,\n",
       "  0.7188885645841495],\n",
       " [0.5934553360948331,\n",
       "  0.5019979276208744,\n",
       "  0.6865112583628653,\n",
       "  0.7163958851523039],\n",
       " [0.5947007267233485,\n",
       "  0.5059870405036085,\n",
       "  0.6850048624521672,\n",
       "  0.7139778864788155],\n",
       " [0.595909402815994,\n",
       "  0.5098571271828463,\n",
       "  0.6835431153397404,\n",
       "  0.7116323311744651],\n",
       " [0.5970824464684847,\n",
       "  0.5136117391043313,\n",
       "  0.6821246937357335,\n",
       "  0.7093570488793765],\n",
       " [0.5982209078916246,\n",
       "  0.5172543217483958,\n",
       "  0.6807483135672965,\n",
       "  0.7071499342549458],\n",
       " [0.5993258063505822,\n",
       "  0.5207882177916503,\n",
       "  0.6794127288164166,\n",
       "  0.7050089450359275],\n",
       " [0.6003981310765047,\n",
       "  0.5242166701743407,\n",
       "  0.6781167303921909,\n",
       "  0.7029321001408743],\n",
       " [0.6014388421512837,\n",
       "  0.5275428250761846,\n",
       "  0.6768591450365177,\n",
       "  0.7009174778391838],\n",
       " [0.602448871366264,\n",
       "  0.5307697348034178,\n",
       "  0.6756388342622133,\n",
       "  0.6989632139730564],\n",
       " [0.603429123055663,\n",
       "  0.5339003605897021,\n",
       "  0.6744546933225966,\n",
       "  0.6970675002327182],\n",
       " [0.6043804749054433,\n",
       "  0.5369375753134613,\n",
       "  0.6733056502116064,\n",
       "  0.6952285824833145],\n",
       " [0.6053037787383638,\n",
       "  0.5398841661341414,\n",
       "  0.6721906646935487,\n",
       "  0.693444759141925],\n",
       " [0.6061998612759091,\n",
       "  0.5427428370498133,\n",
       "  0.6711087273615951,\n",
       "  0.6917143796032006],\n",
       " [0.6070695248777779,\n",
       "  0.545516211378465,\n",
       "  0.6700588587241798,\n",
       "  0.690035842712163],\n",
       " [0.6079135482595925,\n",
       "  0.5482068341652591,\n",
       "  0.6690401083184704,\n",
       "  0.6884075952827571],\n",
       " [0.6087326871894696,\n",
       "  0.5508171745179662,\n",
       "  0.6680515538501082,\n",
       "  0.6868281306607826],\n",
       " [0.6095276751640741,\n",
       "  0.5533496278727158,\n",
       "  0.6670923003584409,\n",
       "  0.6852959873298785],\n",
       " [0.6102992240647622,\n",
       "  0.5558065181921447,\n",
       "  0.6661614794064923,\n",
       "  0.6838097475592674],\n",
       " [0.6110480247943983,\n",
       "  0.5581901000979593,\n",
       "  0.6652582482949346,\n",
       "  0.6823680360920109],\n",
       " [0.6117747478954154,\n",
       "  0.5605025609398696,\n",
       "  0.6643817892993548,\n",
       "  0.680969518872563],\n",
       " [0.6124800441496708,\n",
       "  0.5627460228027914,\n",
       "  0.6635313089301212,\n",
       "  0.6796129018124407],\n",
       " [0.6131645451606342,\n",
       "  0.5649225444541611,\n",
       "  0.6627060372141849,\n",
       "  0.6782969295928752],\n",
       " [0.6138288639184274,\n",
       "  0.5670341232331485,\n",
       "  0.6619052269981613,\n",
       "  0.6770203845033308],\n",
       " [0.614473595348221,\n",
       "  0.5690826968835004,\n",
       "  0.6611281532720664,\n",
       "  0.6757820853148199],\n",
       " [0.6150993168424782,\n",
       "  0.5710701453316993,\n",
       "  0.6603741125130902,\n",
       "  0.6745808861869713],\n",
       " [0.6157065887775215,\n",
       "  0.572998292412066,\n",
       "  0.6596424220488187,\n",
       "  0.6734156756078408],\n",
       " [0.6162959550148831,\n",
       "  0.5748689075403912,\n",
       "  0.6589324194393247,\n",
       "  0.672285375365481],\n",
       " [0.6168679433878886,\n",
       "  0.5766837073376314,\n",
       "  0.6582434618775693,\n",
       "  0.6711889395503234],\n",
       " [0.6174230661739072,\n",
       "  0.5784443572051576,\n",
       "  0.6575749256075728,\n",
       "  0.6701253535874443],\n",
       " [0.6179618205526917,\n",
       "  0.5801524728530046,\n",
       "  0.6569262053598258,\n",
       "  0.6690936332978237],\n",
       " [0.6184846890512175,\n",
       "  0.581809621782521,\n",
       "  0.6562967138034327,\n",
       "  0.6680928239877267],\n",
       " [0.6189921399754178,\n",
       "  0.5834173247247822,\n",
       "  0.6556858810144891,\n",
       "  0.6671219995653649],\n",
       " [0.6194846278292016,\n",
       "  0.5849770570360852,\n",
       "  0.6550931539602138,\n",
       "  0.6661802616840206],\n",
       " [0.6199625937211286,\n",
       "  0.5864902500518058,\n",
       "  0.6545179959983678,\n",
       "  0.6652667389108419],\n",
       " [0.620426465759105,\n",
       "  0.5879582923998617,\n",
       "  0.6539598863915075,\n",
       "  0.6643805859205387],\n",
       " [0.6208766594334509,\n",
       "  0.589382531274985,\n",
       "  0.6534183198356326,\n",
       "  0.6635209827132341],\n",
       " [0.6213135779886859,\n",
       "  0.590764273674974,\n",
       "  0.652892806002802,\n",
       "  0.6626871338557472],\n",
       " [0.6217376127843606, 0.59210478760006, 0.652382869097304, 0.6618782677456059],\n",
       " [0.6221491436452594,\n",
       "  0.5934053032164879,\n",
       "  0.6518880474249789,\n",
       "  0.6610936358971083],\n",
       " [0.6225485392012874,\n",
       "  0.594667013985379,\n",
       "  0.6514078929753041,\n",
       "  0.660332512248773],\n",
       " [0.6229361572173433,\n",
       "  0.5958910777579122,\n",
       "  0.6509419710158648,\n",
       "  0.6595941924915353],\n",
       " [0.6233123449134761,\n",
       "  0.5970786178378279,\n",
       "  0.6504898596988411,\n",
       "  0.6588779934170713],\n",
       " [0.6236774392756091,\n",
       "  0.5982307240122304,\n",
       "  0.6500511496791573,\n",
       "  0.6581832522856437],\n",
       " [0.6240317673571112,\n",
       "  0.5993484535516338,\n",
       "  0.6496254437439469,\n",
       "  0.6575093262128866],\n",
       " [0.6243756465714826,\n",
       "  0.6004328321801695,\n",
       "  0.6492123564529986,\n",
       "  0.6568555915749605],\n",
       " [0.6247093849764194,\n",
       "  0.6014848550168457,\n",
       "  0.6488115137898567,\n",
       "  0.6562214434315283],\n",
       " [0.6250332815495091,\n",
       "  0.6025054874887226,\n",
       "  0.6484225528232621,\n",
       "  0.6556062949660175],\n",
       " [0.6253476264558038,\n",
       "  0.6034956662168408,\n",
       "  0.6480451213786255,\n",
       "  0.6550095769426518],\n",
       " [0.6256527013075108,\n",
       "  0.6044562998757167,\n",
       "  0.6476788777192366,\n",
       "  0.6544307371797483],\n",
       " [0.6259487794160326,\n",
       "  0.6053882700271922,\n",
       "  0.6473234902369213,\n",
       "  0.6538692400387944],\n",
       " [0.6262361260365806,\n",
       "  0.6062924319294055,\n",
       "  0.6469786371518649,\n",
       "  0.6533245659288313],\n",
       " [0.6265149986055842,\n",
       "  0.6071696153216244,\n",
       "  0.6466440062213321,\n",
       "  0.6527962108256842],\n",
       " [0.6267856469711032,\n",
       "  0.6080206251856621,\n",
       "  0.6463192944570189,\n",
       "  0.6522836858055973],\n",
       " [0.6270483136164529,\n",
       "  0.608846242484575,\n",
       "  0.6460042078507802,\n",
       "  0.6517865165928388],\n",
       " [0.6273032338772413,\n",
       "  0.6096472248793197,\n",
       "  0.6456984611084862,\n",
       "  0.65130424312086],\n",
       " [0.6275506361520107,\n",
       "  0.6104243074240266,\n",
       "  0.6454017773917653,\n",
       "  0.6508364191066007],\n",
       " [0.6277907421066743,\n",
       "  0.6111782032405297,\n",
       "  0.6451138880674012,\n",
       "  0.6503826116375481],\n",
       " [0.6280237668729288,\n",
       "  0.6119096041727686,\n",
       "  0.6448345324641563,\n",
       "  0.6499424007711663],\n",
       " [0.6282499192408219,\n",
       "  0.6126191814216664,\n",
       "  0.6445634576368016,\n",
       "  0.6495153791463276],\n",
       " [0.6284694018456451,\n",
       "  0.6133075861610644,\n",
       "  0.6443004181371395,\n",
       "  0.649101151606383],\n",
       " [0.6286824113493216,\n",
       "  0.6139754501352783,\n",
       "  0.6440451757918132,\n",
       "  0.6486993348335263],\n",
       " [0.628889138616448,\n",
       "  0.6146233862388262,\n",
       "  0.6437974994867004,\n",
       "  0.648309556994111],\n",
       " [0.629089768885151,\n",
       "  0.6152519890788578,\n",
       "  0.643557164957696,\n",
       "  0.6479314573945942],\n",
       " [0.6292844819329079,\n",
       "  0.6158618355208035,\n",
       "  0.643323954587696,\n",
       "  0.6475646861477874],\n",
       " [0.6294734522374835,\n",
       "  0.6164534852177423,\n",
       "  0.6430976572095973,\n",
       "  0.647208903849105],\n",
       " [0.6296568491331235,\n",
       "  0.6170274811239745,\n",
       "  0.6428780679151361,\n",
       "  0.646863781262514],\n",
       " [0.629834836962146,\n",
       "  0.6175843499932716,\n",
       "  0.6426649878693913,\n",
       "  0.6465289990158903],\n",
       " [0.6300075752220672, 0.618124602862259, 0.642458224130785, 0.646204247305503],\n",
       " [0.6301752187083905,\n",
       "  0.6186487355193767,\n",
       "  0.6422575894764181,\n",
       "  0.6458892256093508],\n",
       " [0.6303379176531902,\n",
       "  0.6191572289598468,\n",
       "  0.6420629022325817,\n",
       "  0.645583642409088],\n",
       " [0.6304958178596097,\n",
       "  0.6196505498270666,\n",
       "  0.6418739861102916,\n",
       "  0.6452872149202799],\n",
       " [0.6306490608323978,\n",
       "  0.620129150840831,\n",
       "  0.6416906700456968,\n",
       "  0.6449996688307396],\n",
       " [0.6307977839045985,\n",
       "  0.6205934712127787,\n",
       "  0.6415127880452179,\n",
       "  0.6447207380467047],\n",
       " [0.6309421203605076,\n",
       "  0.6210439370494424,\n",
       "  0.6413401790352751,\n",
       "  0.6444501644466178],\n",
       " [0.6310821995550057,\n",
       "  0.6214809617432724,\n",
       "  0.6411726867164684,\n",
       "  0.6441876976422829],\n",
       " [0.6312181470293757,\n",
       "  0.6219049463519944,\n",
       "  0.6410101594220818,\n",
       "  0.643933094747178],\n",
       " [0.6313500846237069,\n",
       "  0.6223162799666471,\n",
       "  0.6408524499807784,\n",
       "  0.6436861201517087],\n",
       " [0.631478130585987,\n",
       "  0.622715340068639,\n",
       "  0.6406994155833663,\n",
       "  0.6434465453051945],\n",
       " [0.6316023996779794,\n",
       "  0.6231024928761518,\n",
       "  0.6405509176535124,\n",
       "  0.6432141485043872],\n",
       " [0.6317230032779805,\n",
       "  0.6234780936802078,\n",
       "  0.6404068217222881,\n",
       "  0.6429887146883244],\n",
       " [0.6318400494805493,\n",
       "  0.6238424871707098,\n",
       "  0.6402669973064328,\n",
       "  0.6427700352393294],\n",
       " [0.6319536431932975,\n",
       "  0.6241960077527532,\n",
       "  0.6401313177902249,\n",
       "  0.6425579077899726],\n",
       " [0.6320638862308281,\n",
       "  0.6245389798535002,\n",
       "  0.6399996603108551,\n",
       "  0.6423521360358166],\n",
       " [0.632170877405905,\n",
       "  0.6248717182198968,\n",
       "  0.6398719056471951,\n",
       "  0.6421525295537712],\n",
       " [0.6322747126179366,\n",
       "  0.6251945282075086,\n",
       "  0.6397479381118639,\n",
       "  0.6419589036258896],\n",
       " [0.632375484938851,\n",
       "  0.6255077060607359,\n",
       "  0.6396276454464929,\n",
       "  0.6417710790684441],\n",
       " [0.6324732846964422,\n",
       "  0.6258115391846706,\n",
       "  0.6395109187200941,\n",
       "  0.6415888820661229],\n",
       " [0.6325681995552577,\n",
       "  0.6261063064088394,\n",
       "  0.6393976522304419,\n",
       "  0.6414121440111932],\n",
       " [0.6326603145951046,\n",
       "  0.6263922782430789,\n",
       "  0.6392877434083758,\n",
       "  0.6412407013474839],\n",
       " [0.6327497123872409,\n",
       "  0.6266697171257759,\n",
       "  0.639181092724941,\n",
       "  0.6410743954190413],\n",
       " [0.6328364730683212,\n",
       "  0.6269388776647002,\n",
       "  0.6390776036012795,\n",
       "  0.6409130723233203],\n",
       " [0.6329206744121646,\n",
       "  0.6272000068706522,\n",
       "  0.6389771823211937,\n",
       "  0.6407565827687723],\n",
       " [0.6330023918994058,\n",
       "  0.6274533443841388,\n",
       "  0.6388797379462989,\n",
       "  0.6406047819367013],\n",
       " [0.633081698785095,\n",
       "  0.627699122695286,\n",
       "  0.6387851822336927,\n",
       "  0.6404575293472571],\n",
       " [0.6331586661643045,\n",
       "  0.6279375673571898,\n",
       "  0.6386934295560633,\n",
       "  0.6403146887294445],\n",
       " [0.6332333630358024,\n",
       "  0.628168897192901,\n",
       "  0.6386043968241656,\n",
       "  0.6401761278950263],\n",
       " [0.6333058563638493,\n",
       "  0.628393324496235,\n",
       "  0.6385180034115948,\n",
       "  0.6400417186162041],\n",
       " [0.6333762111381741,\n",
       "  0.6286110552265882,\n",
       "  0.6384341710817908,\n",
       "  0.6399113365069637],\n",
       " [0.6334444904321823,\n",
       "  0.628822289197944,\n",
       "  0.638352823917204,\n",
       "  0.6397848609079759],\n",
       " [0.6335107554594481,\n",
       "  0.6290272202622369,\n",
       "  0.6382738882505621,\n",
       "  0.6396621747749444],\n",
       " [0.6335750656285422,\n",
       "  0.6292260364872472,\n",
       "  0.6381972925981727,\n",
       "  0.6395431645702996],\n",
       " [0.633637478596243,\n",
       "  0.6294189203291869,\n",
       "  0.638122967595204,\n",
       "  0.6394277201581375],\n",
       " [0.633698050319181,\n",
       "  0.6296060488001366,\n",
       "  0.6380508459328826,\n",
       "  0.639315734702305],\n",
       " [0.6337568351039587,\n",
       "  0.6297875936304858,\n",
       "  0.6379808622975528,\n",
       "  0.6392071045675393],\n",
       " [0.6338138856557958,\n",
       "  0.629963721426527,\n",
       "  0.6379129533115424,\n",
       "  0.6391017292235691],\n",
       " [0.6338692531257383,\n",
       "  0.6301345938233476,\n",
       "  0.6378470574757806,\n",
       "  0.6389995111520891],\n",
       " [0.6339229871564782,\n",
       "  0.6303003676331593,\n",
       "  0.6377831151141174,\n",
       "  0.63890035575652],\n",
       " [0.6339751359268218,\n",
       "  0.6304611949892025,\n",
       "  0.6377210683192923,\n",
       "  0.6388041712744745],\n",
       " [0.6340257461948468,\n",
       "  0.6306172234853561,\n",
       "  0.6376608609005048,\n",
       "  0.6387108686928435],\n",
       " [0.6340748633397884,\n",
       "  0.6307685963115824,\n",
       "  0.6376024383325389,\n",
       "  0.6386203616654278],\n",
       " [0.6341225314026903,\n",
       "  0.6309154523853305,\n",
       "  0.6375457477063957,\n",
       "  0.6385325664330365],\n",
       " [0.6341687931258572,\n",
       "  0.6310579264790183,\n",
       "  0.6374907376813883,\n",
       "  0.6384474017459798],\n",
       " [0.6342136899911452,\n",
       "  0.6311961493437116,\n",
       "  0.6374373584386575,\n",
       "  0.6383647887888838],\n",
       " [0.6342572622571234,\n",
       "  0.6313302478291127,\n",
       "  0.6373855616360643,\n",
       "  0.6382846511077579],\n",
       " [0.6342995489951391,\n",
       "  0.6314603449999687,\n",
       "  0.6373353003644202,\n",
       "  0.6382069145392466],\n",
       " [0.6343405881243213,\n",
       "  0.6315865602490061,\n",
       "  0.6372865291050144,\n",
       "  0.6381315071420018],\n",
       " [0.6343804164455518,\n",
       "  0.6317090094064961,\n",
       "  0.637239203688399,\n",
       "  0.6380583591301107],\n",
       " [0.6344190696744352,\n",
       "  0.6318278048465512,\n",
       "  0.6371932812543977,\n",
       "  0.637987402808518],\n",
       " [0.6344565824732967,\n",
       "  0.6319430555902493,\n",
       "  0.6371487202132974,\n",
       "  0.6379185725103831],\n",
       " [0.6344929884822371,\n",
       "  0.6320548674056812,\n",
       "  0.637105480208192,\n",
       "  0.6378518045363142],\n",
       " [0.6345283203492719,\n",
       "  0.6321633429050126,\n",
       "  0.6370635220784414,\n",
       "  0.6377870370954224],\n",
       " [0.6345626097595825,\n",
       "  0.6322685816386511,\n",
       "  0.6370228078242134,\n",
       "  0.6377242102481425],\n",
       " [0.634595887463905,\n",
       "  0.6323706801866016,\n",
       "  0.6369833005720765,\n",
       "  0.6376632658507664],\n",
       " [0.6346281833060823,\n",
       "  0.6324697322470979,\n",
       "  0.6369449645416136,\n",
       "  0.6376041475016382],\n",
       " [0.6346595262498034,\n",
       "  0.6325658287225885,\n",
       "  0.6369077650130236,\n",
       "  0.6375468004889615],\n",
       " [0.6346899444045551,\n",
       "  0.6326590578031566,\n",
       "  0.6368716682956843,\n",
       "  0.6374911717401708],\n",
       " [0.6347194650508086,\n",
       "  0.632749505047452,\n",
       "  0.6368366416976469,\n",
       "  0.6374372097728184],\n",
       " [0.6347481146644636,\n",
       "  0.6328372534612077,\n",
       "  0.6368026534960342,\n",
       "  0.6373848646469344],\n",
       " [0.6347759189405714,\n",
       "  0.6329223835734131,\n",
       "  0.636769672908317,\n",
       "  0.6373340879188131],\n",
       " [0.6348029028163598,\n",
       "  0.6330049735102162,\n",
       "  0.6367376700644409,\n",
       "  0.6372848325961834],\n",
       " [0.6348290904935774,\n",
       "  0.6330850990666181,\n",
       "  0.6367066159797801,\n",
       "  0.6372370530947237],\n",
       " [0.6348545054601812,\n",
       "  0.6331628337760308,\n",
       "  0.636676482528892,\n",
       "  0.6371907051958785],\n",
       " [0.6348791705113838,\n",
       "  0.6332382489777578,\n",
       "  0.6366472424200504,\n",
       "  0.637145746005939],\n",
       " [0.6349031077700796,\n",
       "  0.6333114138824625,\n",
       "  0.6366188691705335,\n",
       "  0.6371021339163501],\n",
       " [0.6349263387066707,\n",
       "  0.633382395635682,\n",
       "  0.636591337082643,\n",
       "  0.6370598285652064],\n",
       " [0.6349488841583059,\n",
       "  0.6334512593794468,\n",
       "  0.6365646212204367,\n",
       "  0.637018790799901],\n",
       " [0.6349707643475545,\n",
       "  0.6335180683120613,\n",
       "  0.6365386973871475,\n",
       "  0.636978982640895],\n",
       " [0.6349919989005289,\n",
       "  0.6335828837461004,\n",
       "  0.6365135421032745,\n",
       "  0.6369403672465708],\n",
       " [0.6350126068644726,\n",
       "  0.6336457651646769,\n",
       "  0.6364891325853215,\n",
       "  0.6369029088791394],\n",
       " [0.6350326067248298,\n",
       "  0.633706770276028,\n",
       "  0.6364654467251667,\n",
       "  0.6368665728715684],\n",
       " [0.6350520164218124,\n",
       "  0.6337659550664747,\n",
       "  0.6364424630700437,\n",
       "  0.6368313255955023],\n",
       " [0.6350708533664782,\n",
       "  0.6338233738518007,\n",
       "  0.6364201608031158,\n",
       "  0.6367971344301414],\n",
       " [0.6350891344563344,\n",
       "  0.6338790793270972,\n",
       "  0.6363985197246259,\n",
       "  0.6367639677320558],\n",
       " [0.6351068760904821,\n",
       "  0.633933122615122,\n",
       "  0.6363775202336052,\n",
       "  0.6367317948059019],\n",
       " [0.6351240941843139,\n",
       "  0.6339855533132146,\n",
       "  0.6363571433101242,\n",
       "  0.6367005858760172],\n",
       " [0.635140804183778,\n",
       "  0.6340364195388117,\n",
       "  0.6363373704980699,\n",
       "  0.6366703120588656],\n",
       " [0.6351570210792221,\n",
       "  0.6340857679736048,\n",
       "  0.6363181838884332,\n",
       "  0.6366409453363087],\n",
       " [0.635172759418829,\n",
       "  0.6341336439063802,\n",
       "  0.6362995661030915,\n",
       "  0.6366124585296772],\n",
       " [0.6351880333216556,\n",
       "  0.6341800912745803,\n",
       "  0.6362815002790722,\n",
       "  0.6365848252746202],\n",
       " [0.6352028564902886,\n",
       "  0.6342251527046256,\n",
       "  0.6362639700532832,\n",
       "  0.6365580199967069],\n",
       " [0.6352172422231261, 0.634268869551033, 0.636246959547695, 0.63653201788776],\n",
       " [0.6352312034262972,\n",
       "  0.6343112819343669,\n",
       "  0.6362304533549623,\n",
       "  0.6365067948828981],\n",
       " [0.6352447526252306,\n",
       "  0.6343524287780582,\n",
       "  0.6362144365244726,\n",
       "  0.6364823276382654],\n",
       " [0.6352579019758817,\n",
       "  0.6343923478441245,\n",
       "  0.6361988945488071,\n",
       "  0.6364585935094293],\n",
       " [0.6352706632756289,\n",
       "  0.6344310757678243,\n",
       "  0.6361838133506035,\n",
       "  0.636435570530425],\n",
       " [0.6352830479738485,\n",
       "  0.6344686480912781,\n",
       "  0.6361691792698084,\n",
       "  0.6364132373934274],\n",
       " [0.6352950671821782,\n",
       "  0.6345050992960849,\n",
       "  0.6361549790513074,\n",
       "  0.6363915734290326],\n",
       " [0.6353067316844772,\n",
       "  0.6345404628349666,\n",
       "  0.6361411998329213,\n",
       "  0.6363705585871309],\n",
       " [0.635318051946493,\n",
       "  0.6345747711624677,\n",
       "  0.6361278291337589,\n",
       "  0.6363501734183504],\n",
       " [0.635329038125244,\n",
       "  0.6346080557647394,\n",
       "  0.6361148548429146,\n",
       "  0.6363303990560599],\n",
       " [0.6353397000781238,\n",
       "  0.6346403471884343,\n",
       "  0.6361022652085013,\n",
       "  0.636311217198908]]"
      ]
     },
     "execution_count": 112,
     "metadata": {},
     "output_type": "execute_result"
    }
   ],
   "source": [
    "genetics_n_migrations_nIles(p,m,200,4)"
   ]
  },
  {
   "cell_type": "code",
   "execution_count": 115,
   "metadata": {},
   "outputs": [
    {
     "data": {
      "image/png": "[encoded data removed]",
      "text/plain": [
       "<Figure size 432x288 with 1 Axes>"
      ]
     },
     "metadata": {},
     "output_type": "display_data"
    }
   ],
   "source": [
    "def plot_genetics(M,p):\n",
    "    plt.figure()\n",
    "    plt.plot(M)\n",
    "    plt.legend([\"Island \"+i for i in p])\n",
    "    plt.xlabel(\"Génération\")\n",
    "    plt.ylabel(\"Fréquence allèle dans population\")\n",
    "    plt.show()\n",
    "    return\n",
    "\n",
    "plot_genetics(genetics_n_migrations_nIles(p,m,800,4),p)"
   ]
  },
  {
   "cell_type": "markdown",
   "metadata": {},
   "source": [
    "### Variante 2 : Taux de migrations différents entre îles  :"
   ]
  },
  {
   "cell_type": "markdown",
   "metadata": {},
   "source": [
    "Considérons tout d'abord : $m_{A,B} = m_{B,A}$, $m_{A,C} = m_{C,A}$ et $m_{C,B} = m_{B,C}$."
   ]
  },
  {
   "cell_type": "markdown",
   "metadata": {},
   "source": [
    "**Question 2.6 :** Retrouver la formule suivante et adapter les fonctions précédentes. $p_{A,n+1} = p_{A,n}(1-m_{A,B}-m_{C,A})+p_{B,n}m_{B,A}+p_{C,n}m_{C,A}$\n",
    "\n",
    "On retrouve la formule : $p_{A,n+1}$ = $p_{A,n}$ * proportion de personnes venant de l'ile A   +   $p_{B,n}$ * proportion de personnes venant de l'ile B   +   $p_{C,n}$ * proportion de personnes venant de l'ile C\n",
    "\n"
   ]
  },
  {
   "cell_type": "code",
   "execution_count": 283,
   "metadata": {},
   "outputs": [],
   "source": [
    "#Nous utiliserons les paramètres suivants.\n",
    "\n",
    "p = {'A' : 0.5,\n",
    "    'B' : 0.4,\n",
    "    'C' : 0.8} # Initial probability to have red hair \n",
    "\n",
    "m = {('A','B') : 0.2, # Migration ratio from island 'A' to island 'B'\n",
    "     ('B','A') : 0.1,\n",
    "     ('A','C') : 0.1,\n",
    "     ('C','A') : 0.025,\n",
    "     ('B','C') : 0.03,\n",
    "     ('C','B') : 0.01}\n",
    "n = 300"
   ]
  },
  {
   "cell_type": "code",
   "execution_count": 284,
   "metadata": {},
   "outputs": [
    {
     "data": {
      "image/png": "[encoded data removed]",
      "text/plain": [
       "<Figure size 432x288 with 1 Axes>"
      ]
     },
     "metadata": {},
     "output_type": "display_data"
    }
   ],
   "source": [
    "def generation_variante2(p,m):\n",
    "    '''\n",
    "    dict[str:float]*dict[tuple[float,float]:float]->dict[str:float]\n",
    "    Update the population's genetics \n",
    "    '''\n",
    "    p_new={}\n",
    "    p_new['A'] = p['A']*(1-m[('A','B')]-m['A','C'])+p['B']*m['B','A']+p['C']*m['C','A']\n",
    "    p_new['B'] = p['B']*(1-m[('B','A')]-m['B','C'])+p['A']*m['A','B']+p['C']*m['C','B']\n",
    "    p_new['C'] = p['C']*(1-m[('C','A')]-m['C','B'])+p['A']*m['A','C']+p['B']*m['B','C']\n",
    "    return p_new\n",
    "\n",
    "def genetics_n_migrations_variante2(p,m,n):\n",
    "    '''\n",
    "    dict[str:float]*float*int -> list[dict[str:float]]\n",
    "    Retourne la liste des dictionnaires représentant la proportion d'individus ayant les cheveux bruns dans chacune des trois îles à chaque génération\n",
    "    '''\n",
    "    keys=[\"A\",\"B\",\"C\"] \n",
    "    M = []\n",
    "    M.append([p[k] for k in keys])\n",
    "    for i in range(1,n):\n",
    "        p = generation_variante2(p,m)\n",
    "        M.append([p[k] for k in keys])\n",
    "    return M\n",
    "\n",
    "\n",
    "M = genetics_n_migrations_variante2(p,m,n)\n",
    "\n",
    "def plot_genetics(M,p):\n",
    "    plt.figure()\n",
    "    plt.plot(M)\n",
    "    plt.legend([\"Island \"+i for i in p])\n",
    "    plt.xlabel(\"Génération\")\n",
    "    plt.ylabel(\"Fréquence allèle dans population\")\n",
    "    plt.show()\n",
    "    return\n",
    "\n",
    "plot_genetics(M,p)"
   ]
  },
  {
   "cell_type": "code",
   "execution_count": null,
   "metadata": {},
   "outputs": [],
   "source": []
  },
  {
   "cell_type": "markdown",
   "metadata": {},
   "source": [
    "**Question 2.7**: Que se passe-t-il si le taux de migrations d'un île à une autre n'est plus symétrique : $m_{A,B} \\neq m_{B,A}$ ? Est-ce que notre notre calcul est toujours correct ? (Indice : cf hypothèse 1.)\n",
    "\n",
    "Notre calcul n'est plus correct car on ne peut plus simplifier notre fraction par Z/3 puisque la population n'est plus équirépartie sur les iles."
   ]
  },
  {
   "cell_type": "markdown",
   "metadata": {},
   "source": [
    "# 3. Galton-Watson et Migrations"
   ]
  },
  {
   "cell_type": "markdown",
   "metadata": {},
   "source": [
    "Dans cette partie nous nous intéressons aux nombres d'individus sur chaque île sans tenir compte de leurs patrimoines génétiques. Nous supposons que la population de chaque île suit un modele de Gatson-Watson. Prenons en compte les migrations et adaptons notre modèle en conséquent.\n",
    "\n",
    "Notons $Z_{A,n},Z_{B,n},Z_{C,n}$ les populations des îles $A$, $B$ et $C$ à la génération $n$. \n",
    "\n",
    "La formule suivante peut sembler compliquée, mais s'interprète assez facilement :\n",
    "- $Z_{A,n+1} = \\sum_{i=1}^{Z_{A,n}'}X$ où $Z_{A,n}' = Z_{A,n}(1-m_{A,B}-m_{A,C})+Z_{B,n}m_{B,A}+Z_{C,n}m_{C,A}$.\n",
    "\n",
    "$Z_{A,n}'$ est la population de l'île $A$ à la generation $n$ **après** avoir pris en compte les migrations.\n",
    "\n",
    "**Question 3.1 :** Retrouver les formules pour $Z_{B,n+1}$ ainsi que pour $Z_{C,n+1}$."
   ]
  },
  {
   "cell_type": "markdown",
   "metadata": {},
   "source": [
    "Modélisons l'évolution de cet archipel au fil des générations."
   ]
  },
  {
   "cell_type": "code",
   "execution_count": 21,
   "metadata": {},
   "outputs": [],
   "source": [
    "#Nous utiliserons les paramètres suivants.\n",
    "\n",
    "p = {0 : 0.4,\n",
    "     1 : 0.3,\n",
    "     2 : 0.2,\n",
    "     3 : 0.1} # Number of descendants\n",
    "np.testing.assert_almost_equal(sum(p.values()),1)\n",
    "\n",
    "P = {'A' : p,\n",
    "     'B' : p,\n",
    "     'C' : p} # Galton Watson parameter on each island\n",
    "\n",
    "Z0 = {'A' : 40,\n",
    "     'B' : 1000,\n",
    "     'C' : 400} #Initial Population\n",
    "\n",
    "M = {('A','B') : 0.02, # Migration ratio from island 'A' to island 'B'\n",
    "     ('B','A') : 0.02,\n",
    "     ('A','C') : 0.05,\n",
    "     ('C','A') : 0.05,\n",
    "     ('B','C') : 0.01,\n",
    "     ('C','B') : 0.01}\n",
    "\n",
    "n = 10 #Number of generations"
   ]
  },
  {
   "cell_type": "markdown",
   "metadata": {},
   "source": [
    "**Question 3.2 :** Compléter la fonction ci-dessous."
   ]
  },
  {
   "cell_type": "code",
   "execution_count": 22,
   "metadata": {},
   "outputs": [],
   "source": [
    "def update_populations_with_migrations(Z,P,M):\n",
    "    '''\n",
    "    dict[str:int]*dict[str:dict[int:float]]*dict[tuple[str,str]:float]->dict[str:int]\n",
    "    Retourne le dictionnaire correspondant à la population propre à chaque île à la génération suivante.\n",
    "    '''\n",
    "    Z_new = {}\n",
    "    \n",
    "    #Migrations\n",
    "    \n",
    "    Z_new['A']=Z['A']*(1-M[('A','B')]-M[('A','C')])+Z['B']*M[('B','A')]+Z['C']*M[('C','A')]\n",
    "    Z_new['B']=Z['B']*(1-M[('B','A')]-M[('B','C')])+Z['A']*M[('A','B')]+Z['C']*M[('C','B')]\n",
    "    Z_new['C']=Z['C']*(1-M[('C','A')]-M[('C','B')])+Z['A']*M[('A','C')]+Z['B']*M[('B','C')]\n",
    "    \n",
    "    #Reproduction\n",
    "    Z_new['A']=update_population(int(Z_new['A']),p)\n",
    "    Z_new['B']=update_population(int(Z_new['B']),p)\n",
    "    Z_new['C']=update_population(int(Z_new['C']),p)\n",
    "    \n",
    "    return Z_new"
   ]
  },
  {
   "cell_type": "markdown",
   "metadata": {},
   "source": [
    "**Question 3.3 :** Visualiser le nombre d'individu sur chaque île."
   ]
  },
  {
   "cell_type": "code",
   "execution_count": 23,
   "metadata": {},
   "outputs": [
    {
     "name": "stdout",
     "output_type": "stream",
     "text": [
      "{'C': 380, 'B': 933, 'A': 80}\n"
     ]
    }
   ],
   "source": [
    "print(update_populations_with_migrations(Z0,P,M))"
   ]
  },
  {
   "cell_type": "markdown",
   "metadata": {},
   "source": [
    "**Questions 3.4 :**\n",
    "- Faire varier les populations initiales $Z_0$.\n",
    "- Modifier les paramètres de migrations pour éteindre la population d'une seule île.\n",
    "- Faire survivre la population d'une seule île."
   ]
  },
  {
   "cell_type": "code",
   "execution_count": 24,
   "metadata": {},
   "outputs": [],
   "source": [
    "#Variation de Z0\n",
    "\n",
    "#Nous utiliserons les paramètres suivants.\n",
    "\n",
    "p = {0 : 0.4,\n",
    "     1 : 0.3,\n",
    "     2 : 0.2,\n",
    "     3 : 0.1} # Number of descendants\n",
    "np.testing.assert_almost_equal(sum(p.values()),1)\n",
    "\n",
    "P = {'A' : p,\n",
    "     'B' : p,\n",
    "     'C' : p} # Galton Watson parameter on each island\n",
    "\n",
    "Z0 = {'A' : 27,\n",
    "     'B' : 1230,\n",
    "     'C' : 526} #Initial Population\n",
    "\n",
    "M = {('A','B') : 0.02, # Migration ratio from island 'A' to island 'B'\n",
    "     ('B','A') : 0.02,\n",
    "     ('A','C') : 0.05,\n",
    "     ('C','A') : 0.05,\n",
    "     ('B','C') : 0.01,\n",
    "     ('C','B') : 0.01}\n",
    "\n",
    "n = 10 #Number of generations\n",
    "\n",
    "#Extinction d'une population sur l'ile A\n",
    "\n",
    "#Nous utiliserons les paramètres suivants.\n",
    "\n",
    "p = {0 : 0.4,\n",
    "     1 : 0.3,\n",
    "     2 : 0.2,\n",
    "     3 : 0.1} # Number of descendants\n",
    "np.testing.assert_almost_equal(sum(p.values()),1)\n",
    "\n",
    "P = {'A' : p,\n",
    "     'B' : p,\n",
    "     'C' : p} # Galton Watson parameter on each island\n",
    "\n",
    "Z0 = {'A' : 40,\n",
    "     'B' : 1000,\n",
    "     'C' : 400} #Initial Population\n",
    "\n",
    "M = {('A','B') : 0.5, # Migration ratio from island 'A' to island 'B'\n",
    "     ('B','A') : 0.00,\n",
    "     ('A','C') : 0.5,\n",
    "     ('C','A') : 0.00,\n",
    "     ('B','C') : 0.01,\n",
    "     ('C','B') : 0.01}\n",
    "\n",
    "n = 10 #Number of generations\n",
    "\n",
    "#Survie sur l'ile A\n",
    "\n",
    "#Nous utiliserons les paramètres suivants.\n",
    "\n",
    "p = {0 : 0.4,\n",
    "     1 : 0.3,\n",
    "     2 : 0.2,\n",
    "     3 : 0.1} # Number of descendants\n",
    "np.testing.assert_almost_equal(sum(p.values()),1)\n",
    "\n",
    "P = {'A' : p,\n",
    "     'B' : p,\n",
    "     'C' : p} # Galton Watson parameter on each island\n",
    "\n",
    "Z0 = {'A' : 40,\n",
    "     'B' : 1000,\n",
    "     'C' : 400} #Initial Population\n",
    "\n",
    "M = {('A','B') : 0.00, # Migration ratio from island 'A' to island 'B'\n",
    "     ('B','A') : 1.00,\n",
    "     ('A','C') : 0.00,\n",
    "     ('C','A') : 1.00,\n",
    "     ('B','C') : 0.00,\n",
    "     ('C','B') : 0.00}\n",
    "\n",
    "n = 10 #Number of generations"
   ]
  },
  {
   "cell_type": "markdown",
   "metadata": {},
   "source": [
    "### Visualisation Dynamique (Facultatif)"
   ]
  },
  {
   "cell_type": "markdown",
   "metadata": {},
   "source": [
    "Avec cette visualisation il est très simple d'observer les phénomènes de cas (sur/sous)-critiques, en faisant varier ne serait-ce que très légérement l'espérance."
   ]
  },
  {
   "cell_type": "code",
   "execution_count": 25,
   "metadata": {},
   "outputs": [],
   "source": [
    "import pandas as pd\n",
    "def animated_populations(Z,P,M,n):\n",
    "    n_island = len(Z)\n",
    "    pop_dict = {0:Z}\n",
    "    for i in range(n):\n",
    "        Z = update_populations_with_migrations(Z,P,M)\n",
    "        pop_dict[i]=Z.copy()\n",
    "    pop_df = pd.DataFrame.from_dict(pop_dict,orient='index')\n",
    "    fig = plt.figure()\n",
    "    cmap = plt.get_cmap('tab10')\n",
    "    barplot = plt.bar(range(n_island),pop_df.max(),color=[cmap(i) for i in range(n_island)])\n",
    "    def animate(i):\n",
    "        populations = pop_df.iloc[i,:]\n",
    "        for j,b in enumerate(barplot):\n",
    "            b.set_height(populations[j])\n",
    "    plt.tick_params(top=False,right=False)\n",
    "    plt.xticks(range(n_island),[\"Island \"+str(i) for i in Z.keys()])\n",
    "    plt.ylabel(\"Population\")\n",
    "    for spine in plt.gca().spines.values():\n",
    "        spine.set_visible(False)\n",
    "    anim = animation.FuncAnimation(fig,animate,blit=False,\n",
    "                                  frames = n,interval=300,repeat=False)\n",
    "    #anim.save('mymovie.mp4',writer=animation.FFMpegWriter(fps=10))\n",
    "    return anim"
   ]
  },
  {
   "cell_type": "code",
   "execution_count": 47,
   "metadata": {},
   "outputs": [
    {
     "data": {
      "text/plain": [
       "<matplotlib.animation.FuncAnimation at 0x7ff3a938fe48>"
      ]
     },
     "execution_count": 47,
     "metadata": {},
     "output_type": "execute_result"
    },
    {
     "data": {
      "image/png": "[encoded data removed]",
      "text/plain": [
       "<Figure size 432x288 with 1 Axes>"
      ]
     },
     "metadata": {},
     "output_type": "display_data"
    }
   ],
   "source": [
    "p = {0 : 0.4,\n",
    "     1 : 0.3,\n",
    "     2 : 0.2,\n",
    "     3 : 0.1}\n",
    "np.testing.assert_almost_equal(sum(p.values()),1)\n",
    "P = {'A' : p,\n",
    "     'B' : p,\n",
    "     'C' : p}\n",
    "Z0 = {'A' : 400,\n",
    "     'B' : 2000,\n",
    "     'C' : 400}\n",
    "M = {('A','B') : 0.05, # Migration ratio from island 'A' to island 'B'\n",
    "     ('B','A') : 0.05,\n",
    "     ('A','C') : 0.05,\n",
    "     ('C','A') : 0.05,\n",
    "     ('B','C') : 0.01,\n",
    "     ('C','B') : 0.01}\n",
    "n = 50000\n",
    "animated_populations(Z0,P,M,n)"
   ]
  },
  {
   "cell_type": "markdown",
   "metadata": {},
   "source": [
    "# 4. Galton-Island"
   ]
  },
  {
   "cell_type": "markdown",
   "metadata": {},
   "source": [
    "Retournons à notre Island Model, maintenant que nous avons pris en compte l'évolution de la population sur chaque île, celle-ci n'étant plus constante, nous allons pouvoir réaliser un modèle un peu plus réaliste, nous oublions l'**hypothèse 1**."
   ]
  },
  {
   "cell_type": "markdown",
   "metadata": {},
   "source": [
    "**Question 4.1 :** Retrouver la formule générale suivante :\n",
    "\n",
    "$p_{A,n+1} = \\frac{\\displaystyle p_{A,n}Z_{A,n}(1-m_{A,B}-m_{A,C})+p_{B,n}Z_{B,n}m_{B,A}+p_{C,n}Z_{C,n}m_{C,A}}{\\displaystyle Z_{A,n}(1-m_{A,B}-m_{A,C})+Z_{B,n}m_{B,A}+Z_{C,n}m_{C,A}}$\n",
    "\n",
    "\n",
    "Adapter les fonctions précédentes dans les box ci dessous."
   ]
  },
  {
   "cell_type": "code",
   "execution_count": 57,
   "metadata": {},
   "outputs": [],
   "source": [
    "def update_genetics_with_migrations(Z,p_genetics,m,verbose=False):\n",
    "    '''\n",
    "    Update the genetics of the population 'C', with parameter in 'p_galton' and 'p_genetics',\n",
    "    according to migrations 'm' \n",
    "    '''\n",
    "    New_p_genetics = {}\n",
    "    New_p_genetics['A']=(p_genetics['A']*Z['A']*(1-m[('A','B')]-m[('A','C')])+p_genetics['B']*Z['B']*m[('B','A')]+p_genetics['C']*Z['C']*m[('C','A')])/(Z['A']*(1-m[('A','B')]-m[('A','C')])+Z['B']*m[('B','A')]+Z['C']*m[('C','A')])\n",
    "    New_p_genetics['B']=(p_genetics['B']*Z['B']*(1-m[('B','A')]-m[('B','C')])+p_genetics['A']*Z['A']*m[('A','B')]+p_genetics['C']*Z['C']*m[('C','B')])/(Z['B']*(1-m[('B','A')]-m[('B','C')])+Z['A']*m[('A','B')]+Z['C']*m[('C','B')])\n",
    "    New_p_genetics['C']=(p_genetics['C']*Z['C']*(1-m[('C','A')]-m[('C','B')])+p_genetics['A']*Z['A']*m[('A','C')]+p_genetics['B']*Z['B']*m[('B','C')])/(Z['C']*(1-m[('C','A')]-m[('C','B')])+Z['A']*m[('A','C')]+Z['B']*m[('B','C')])\n",
    "    return New_p_genetics"
   ]
  },
  {
   "cell_type": "code",
   "execution_count": 85,
   "metadata": {},
   "outputs": [],
   "source": [
    "from copy import copy\n",
    "def galton_island(Z,p_galton,p_genetics,m,n):\n",
    "    '''\n",
    "    Combinaison des deux modèles \n",
    "    '''\n",
    "    New_p_genetics=p_genetics\n",
    "    New_Z=Z.copy()\n",
    "    for i in range (n):\n",
    "        New_p_genetics=update_genetics_with_migrations(Z,New_p_genetics,m,verbose=False)\n",
    "        for k in New_p_genetics:\n",
    "            New_Z[k]=update_population(New_Z[k],p_galton[k])\n",
    "    print(Z,New_Z)\n",
    "    return New_p_genetics"
   ]
  },
  {
   "cell_type": "code",
   "execution_count": 87,
   "metadata": {},
   "outputs": [
    {
     "name": "stdout",
     "output_type": "stream",
     "text": [
      "{'C': 50, 'B': 10000, 'A': 500} {'C': 0, 'B': 11385, 'A': 313}\n"
     ]
    },
    {
     "data": {
      "text/plain": [
       "{'A': 500, 'B': 10000, 'C': 50}"
      ]
     },
     "execution_count": 87,
     "metadata": {},
     "output_type": "execute_result"
    }
   ],
   "source": [
    "Z = {'A' : 500,\n",
    "     'B' : 10000,\n",
    "     'C' : 50} # Initial population\n",
    "p = {0 : 0.3,\n",
    "     1 : 0.5,\n",
    "     2 : 0.1,\n",
    "     3 : 0.1}\n",
    "p_galton = {'A' : p,\n",
    "            'B' : p,\n",
    "            'C' : p}\n",
    "p_genetics = {'A' : 0.05,\n",
    "              'B' : 0.1,\n",
    "              'C' : 0.05} # Initial proportion of the population that can survive the disease. \n",
    "m = {('A','B') : 0.02, # Migration ratio from island 'A' to island 'B'\n",
    "     ('B','A') : 0.02,\n",
    "     ('A','C') : 0.05,\n",
    "     ('C','A') : 0.02,\n",
    "     ('B','C') : 0.04,\n",
    "     ('C','B') : 0.02}\n",
    "n = 500\n",
    "galton_island(Z,p_galton,p_genetics,m,n)"
   ]
  },
  {
   "cell_type": "markdown",
   "metadata": {},
   "source": [
    "**Questions 4.2 :** Observer l'évolution de la proportion de la population possédant l'allèle au sein de chaque île."
   ]
  },
  {
   "cell_type": "markdown",
   "metadata": {},
   "source": [
    "La proportion de la population possedant l'allele au sein de chaque ile augment mais reste faible."
   ]
  },
  {
   "cell_type": "markdown",
   "metadata": {},
   "source": [
    "# 5. L'épidémie"
   ]
  },
  {
   "cell_type": "markdown",
   "metadata": {},
   "source": [
    "Une épidémie se propage sur l'archipel, seul les individus possèdant la version du gène étudié (les cheveux bruns) peuvent y survivre. (Un truc très sérieux, genre peste bubonique ou ebola 2.0). Cette épidémie survient lors de la génération arbitraire : *n_epi*.\n"
   ]
  },
  {
   "cell_type": "markdown",
   "metadata": {},
   "source": [
    "**Question 5.1 :** Rajoutez dans la fonction *galton_island* précédente une condition permettant de modéliser ce phénomène. \n",
    "Indice : Rajouter un test correpondant à *n_epi* et ajuster la population en fonction de $p_{A,n}$, $p_{B,n}$ et $p_{C,n}$. "
   ]
  },
  {
   "cell_type": "code",
   "execution_count": 238,
   "metadata": {},
   "outputs": [],
   "source": [
    "def galton_island_with_disease(Z,p_galton,p_genetics,m,n,n_epi):\n",
    "    '''\n",
    "    Combinaison des deux modèles + maladie à la génération 'n_epi'\n",
    "    '''\n",
    "    New_p_genetics=p_genetics\n",
    "    New_Z=Z.copy()\n",
    "    for i in range (n):\n",
    "        New_p_genetics=update_genetics_with_migrations(Z,New_p_genetics,m,verbose=False)\n",
    "        for k in New_p_genetics:\n",
    "            New_Z[k]=update_population(int(New_Z[k]),p_galton[k])\n",
    "        if i==n_epi:\n",
    "            for l in New_Z:\n",
    "                New_Z[l]=New_Z[l]*New_p_genetics[l]\n",
    "                New_p_genetics[l]=1\n",
    "    return New_Z"
   ]
  },
  {
   "cell_type": "code",
   "execution_count": 239,
   "metadata": {},
   "outputs": [],
   "source": [
    "Z = {'A' : 500,\n",
    "     'B' : 10000,\n",
    "     'C' : 500} # Initial population\n",
    "p = {0 : 0.3,\n",
    "     1 : 0.5,\n",
    "     2 : 0.1,\n",
    "     3 : 0.1}\n",
    "p_galton = {'A' : p,\n",
    "            'B' : p,\n",
    "            'C' : p}\n",
    "p_genetics = {'A' : 0.05,\n",
    "              'B' : 0.1,\n",
    "              'C' : 0.05} # Initial proportion of the population that can survive the disease. \n",
    "m = {('A','B') : 0.02, # Migration ratio from island 'A' to island 'B'\n",
    "     ('B','A') : 0.02,\n",
    "     ('A','C') : 0.05,\n",
    "     ('C','A') : 0.02,\n",
    "     ('B','C') : 0.04,\n",
    "     ('C','B') : 0.02}\n",
    "n_epi = 50\n",
    "n = 200"
   ]
  },
  {
   "cell_type": "code",
   "execution_count": 240,
   "metadata": {},
   "outputs": [
    {
     "data": {
      "text/plain": [
       "{'A': 273, 'B': 605, 'C': 56}"
      ]
     },
     "execution_count": 240,
     "metadata": {},
     "output_type": "execute_result"
    }
   ],
   "source": [
    "galton_island_with_disease(Z,p_galton,p_genetics,m,n,n_epi)"
   ]
  },
  {
   "cell_type": "markdown",
   "metadata": {},
   "source": [
    "**Questions 5.2 :**\n",
    "  - Faire varier les paramètres des 2 modèles afin de faire survivre les populations des trois iles.\n",
    "  - Faire varier les paramètres afin de faire survivre seulement les habitants des îles $A$ et $B$.\n",
    "  - Faire varier les paramètres afin de faire survivre seulement les habitant de l'île $C$."
   ]
  },
  {
   "cell_type": "code",
   "execution_count": 247,
   "metadata": {},
   "outputs": [
    {
     "data": {
      "text/plain": [
       "{'A': 46, 'B': 2646, 'C': 51}"
      ]
     },
     "execution_count": 247,
     "metadata": {},
     "output_type": "execute_result"
    }
   ],
   "source": [
    "#Survie des trois iles\n",
    "Z = {'A' : 500,\n",
    "     'B' : 10000,\n",
    "     'C' : 500} # Initial population\n",
    "p = {0 : 0.3,\n",
    "     1 : 0.5,\n",
    "     2 : 0.1,\n",
    "     3 : 0.1}\n",
    "p_galton = {'A' : p,\n",
    "            'B' : p,\n",
    "            'C' : p}\n",
    "p_genetics = {'A' : 0.3,\n",
    "              'B' : 0.1,\n",
    "              'C' : 0.3} # Initial proportion of the population that can survive the disease. \n",
    "m = {('A','B') : 0.5, # Migration ratio from island 'A' to island 'B'\n",
    "     ('B','A') : 0.5,\n",
    "     ('A','C') : 0.5,\n",
    "     ('C','A') : 0.5,\n",
    "     ('B','C') : 0.5,\n",
    "     ('C','B') : 0.5}\n",
    "n_epi = 50\n",
    "n = 200\n",
    "galton_island_with_disease(Z,p_galton,p_genetics,m,n,n_epi)"
   ]
  },
  {
   "cell_type": "code",
   "execution_count": 252,
   "metadata": {},
   "outputs": [
    {
     "data": {
      "text/plain": [
       "{'A': 25, 'B': 908, 'C': 0}"
      ]
     },
     "execution_count": 252,
     "metadata": {},
     "output_type": "execute_result"
    }
   ],
   "source": [
    "#Survie sur A et B\n",
    "Z = {'A' : 500,\n",
    "     'B' : 10000,\n",
    "     'C' : 500} # Initial population\n",
    "p = {0 : 0.3,\n",
    "     1 : 0.5,\n",
    "     2 : 0.1,\n",
    "     3 : 0.1}\n",
    "p_galton = {'A' : p,\n",
    "            'B' : p,\n",
    "            'C' : p}\n",
    "p_genetics = {'A' : 0.05,\n",
    "              'B' : 0.1,\n",
    "              'C' : 0.05} # Initial proportion of the population that can survive the disease. \n",
    "m = {('A','B') : 0.02, # Migration ratio from island 'A' to island 'B'\n",
    "     ('B','A') : 0.25,\n",
    "     ('A','C') : 0.05,\n",
    "     ('C','A') : 0.25,\n",
    "     ('B','C') : 0.04,\n",
    "     ('C','B') : 0.02}\n",
    "n_epi = 50\n",
    "n = 200\n",
    "\n",
    "galton_island_with_disease(Z,p_galton,p_genetics,m,n,n_epi)"
   ]
  },
  {
   "cell_type": "code",
   "execution_count": 292,
   "metadata": {},
   "outputs": [
    {
     "data": {
      "text/plain": [
       "{'A': 0, 'B': 0, 'C': 2190}"
      ]
     },
     "execution_count": 292,
     "metadata": {},
     "output_type": "execute_result"
    }
   ],
   "source": [
    "#Survie sur C\n",
    "Z = {'A' : 100,\n",
    "     'B' : 100,\n",
    "     'C' : 500} # Initial population\n",
    "p = {0 : 0.275,\n",
    "     1 : 0.525,\n",
    "     2 : 0.1,\n",
    "     3 : 0.1}\n",
    "p_galton = {'A' : p,\n",
    "            'B' : p,\n",
    "            'C' : p}\n",
    "p_genetics = {'A' : 0.01,\n",
    "              'B' : 0.005,\n",
    "              'C' : 0.06} # Initial proportion of the population that can survive the disease. \n",
    "m = {('A','B') : 0.2, # Migration ratio from island 'A' to island 'B'\n",
    "     ('B','A') : 0.3,\n",
    "     ('A','C') : 0.2,\n",
    "     ('C','A') : 0.1,\n",
    "     ('B','C') : 0.4,\n",
    "     ('C','B') : 0.2}\n",
    "n_epi = 50\n",
    "n = 200\n",
    "\n",
    "galton_island_with_disease(Z,p_galton,p_genetics,m,n,n_epi)"
   ]
  },
  {
   "cell_type": "code",
   "execution_count": 116,
   "metadata": {},
   "outputs": [
    {
     "ename": "NameError",
     "evalue": "name 'update_genetics_with_migrations' is not defined",
     "output_type": "error",
     "traceback": [
      "\u001b[0;31m---------------------------------------------------------------------------\u001b[0m",
      "\u001b[0;31mNameError\u001b[0m                                 Traceback (most recent call last)",
      "\u001b[0;32m<ipython-input-116-219c0d939298>\u001b[0m in \u001b[0;36m<module>\u001b[0;34m()\u001b[0m\n\u001b[1;32m     45\u001b[0m     \u001b[0mplt\u001b[0m\u001b[0;34m.\u001b[0m\u001b[0mshow\u001b[0m\u001b[0;34m(\u001b[0m\u001b[0;34m)\u001b[0m\u001b[0;34m\u001b[0m\u001b[0m\n\u001b[1;32m     46\u001b[0m     \u001b[0;32mreturn\u001b[0m\u001b[0;34m\u001b[0m\u001b[0m\n\u001b[0;32m---> 47\u001b[0;31m \u001b[0mplot_epid\u001b[0m\u001b[0;34m(\u001b[0m\u001b[0mtable_epid\u001b[0m\u001b[0;34m(\u001b[0m\u001b[0mZ\u001b[0m\u001b[0;34m,\u001b[0m\u001b[0mp_galton\u001b[0m\u001b[0;34m,\u001b[0m\u001b[0mp_genetics\u001b[0m\u001b[0;34m,\u001b[0m\u001b[0mm\u001b[0m\u001b[0;34m,\u001b[0m\u001b[0mn\u001b[0m\u001b[0;34m,\u001b[0m\u001b[0mn_epi\u001b[0m\u001b[0;34m)\u001b[0m\u001b[0;34m)\u001b[0m\u001b[0;34m\u001b[0m\u001b[0m\n\u001b[0m",
      "\u001b[0;32m<ipython-input-116-219c0d939298>\u001b[0m in \u001b[0;36mtable_epid\u001b[0;34m(Z, p_galton, p_genetics, m, n, n_epi)\u001b[0m\n\u001b[1;32m     26\u001b[0m     \u001b[0mM\u001b[0m\u001b[0;34m=\u001b[0m\u001b[0;34m[\u001b[0m\u001b[0;34m]\u001b[0m\u001b[0;34m\u001b[0m\u001b[0m\n\u001b[1;32m     27\u001b[0m     \u001b[0;32mfor\u001b[0m \u001b[0mi\u001b[0m \u001b[0;32min\u001b[0m \u001b[0mrange\u001b[0m \u001b[0;34m(\u001b[0m\u001b[0mn\u001b[0m\u001b[0;34m)\u001b[0m\u001b[0;34m:\u001b[0m\u001b[0;34m\u001b[0m\u001b[0m\n\u001b[0;32m---> 28\u001b[0;31m         \u001b[0mNew_p_genetics\u001b[0m\u001b[0;34m=\u001b[0m\u001b[0mupdate_genetics_with_migrations\u001b[0m\u001b[0;34m(\u001b[0m\u001b[0mZ\u001b[0m\u001b[0;34m,\u001b[0m\u001b[0mNew_p_genetics\u001b[0m\u001b[0;34m,\u001b[0m\u001b[0mm\u001b[0m\u001b[0;34m,\u001b[0m\u001b[0mverbose\u001b[0m\u001b[0;34m=\u001b[0m\u001b[0;32mFalse\u001b[0m\u001b[0;34m)\u001b[0m\u001b[0;34m\u001b[0m\u001b[0m\n\u001b[0m\u001b[1;32m     29\u001b[0m         \u001b[0;32mfor\u001b[0m \u001b[0mk\u001b[0m \u001b[0;32min\u001b[0m \u001b[0mNew_p_genetics\u001b[0m\u001b[0;34m:\u001b[0m\u001b[0;34m\u001b[0m\u001b[0m\n\u001b[1;32m     30\u001b[0m             \u001b[0mNew_Z\u001b[0m\u001b[0;34m[\u001b[0m\u001b[0mk\u001b[0m\u001b[0;34m]\u001b[0m\u001b[0;34m=\u001b[0m\u001b[0mupdate_population\u001b[0m\u001b[0;34m(\u001b[0m\u001b[0mint\u001b[0m\u001b[0;34m(\u001b[0m\u001b[0mNew_Z\u001b[0m\u001b[0;34m[\u001b[0m\u001b[0mk\u001b[0m\u001b[0;34m]\u001b[0m\u001b[0;34m)\u001b[0m\u001b[0;34m,\u001b[0m\u001b[0mp_galton\u001b[0m\u001b[0;34m[\u001b[0m\u001b[0mk\u001b[0m\u001b[0;34m]\u001b[0m\u001b[0;34m)\u001b[0m\u001b[0;34m\u001b[0m\u001b[0m\n",
      "\u001b[0;31mNameError\u001b[0m: name 'update_genetics_with_migrations' is not defined"
     ]
    }
   ],
   "source": [
    "Z = {'A' : 100,\n",
    "     'B' : 100,\n",
    "     'C' : 500} # Initial population\n",
    "p = {0 : 0.3,\n",
    "     1 : 0.5,\n",
    "     2 : 0.1,\n",
    "     3 : 0.1}\n",
    "p_galton = {'A' : p,\n",
    "            'B' : p,\n",
    "            'C' : p}\n",
    "p_genetics = {'A' : 0.00,\n",
    "              'B' : 0.00,\n",
    "              'C' : 0.5} # Initial proportion of the population that can survive the disease. \n",
    "m = {('A','B') : 0.0, # Migration ratio from island 'A' to island 'B'\n",
    "     ('B','A') : 0.0,\n",
    "     ('A','C') : 0.0,\n",
    "     ('C','A') : 0.0,\n",
    "     ('B','C') : 0.0,\n",
    "     ('C','B') : 0.0}\n",
    "n_epi = 50\n",
    "n = 200\n",
    "def table_epid(Z,p_galton,p_genetics,m,n,n_epi): \n",
    "    '''Retourne le tableau du nombre de population pour chaque île à chaque génération'''\n",
    "    New_p_genetics=p_genetics\n",
    "    New_Z=Z.copy()\n",
    "    M=[]\n",
    "    for i in range (n):\n",
    "        New_p_genetics=update_genetics_with_migrations(Z,New_p_genetics,m,verbose=False)\n",
    "        for k in New_p_genetics:\n",
    "            New_Z[k]=update_population(int(New_Z[k]),p_galton[k])\n",
    "        if i==n_epi:\n",
    "            for l in New_Z:\n",
    "                New_Z[l]=New_Z[l]*New_p_genetics[l]\n",
    "                New_p_genetics[l]=1\n",
    "        M.append([New_Z['A'],New_Z['B'],New_Z['C']])   \n",
    "    return M\n",
    "    \n",
    "\n",
    "def plot_epid(M):\n",
    "    plt.figure()\n",
    "    plt.plot(M)\n",
    "    plt.legend([\"Island \"+chr(i) for i in range(65,68)])\n",
    "    plt.xlabel(\"Génération\")\n",
    "    plt.ylabel(\"Population\")\n",
    "    plt.show()\n",
    "    return\n",
    "plot_epid(table_epid(Z,p_galton,p_genetics,m,n,n_epi))"
   ]
  },
  {
   "cell_type": "code",
   "execution_count": null,
   "metadata": {},
   "outputs": [],
   "source": []
  }
 ],
 "metadata": {
  "kernelspec": {
   "display_name": "Python 3",
   "language": "python",
   "name": "python3"
  },
  "language_info": {
   "codemirror_mode": {
    "name": "ipython",
    "version": 3
   },
   "file_extension": ".py",
   "mimetype": "text/x-python",
   "name": "python",
   "nbconvert_exporter": "python",
   "pygments_lexer": "ipython3",
   "version": "3.5.3"
  }
 },
 "nbformat": 4,
 "nbformat_minor": 2
}
