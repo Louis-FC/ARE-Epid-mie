{
 "cells": [
  {
   "cell_type": "markdown",
   "metadata": {},
   "source": [
    "DYNAMIQUE DES EPIDEMIES \n",
    "=="
   ]
  },
  {
   "cell_type": "markdown",
   "metadata": {},
   "source": [
    "Résumé \n",
    "--\n",
    "Notre travail a consisté à modéliser la dynamique d'épidémie en fonction de comportements individuels face à la maladie.\n",
    "\n",
    "Pour ce faire nous avons émis plusieurs hypothèses, dont la princiale était : \n",
    "-Plus la proportion de personne informée de la présence  plus l'épidémie s'éteindra rapidement ou moins elle proliféra. \n",
    "\n",
    "Nous avons également supposé qu'il existait un seuil à partir duquel l'épidémie se propagerait. Notre modélisation s'inspire du Jeu de la Vie. Pour réaliser ce travail nous nous sommes appuyé sur des bibliothèques de fonctions python existantes, dont les principales sont : Numpy pour la partie matricielle du code, MatplotLib pour générer les images et enfin Imageio pour animer ces dernières.  "
   ]
  },
  {
   "cell_type": "code",
   "execution_count": null,
   "metadata": {},
   "outputs": [],
   "source": []
  }
 ],
 "metadata": {
  "kernelspec": {
   "display_name": "Python 3",
   "language": "python",
   "name": "python3"
  },
  "language_info": {
   "codemirror_mode": {
    "name": "ipython",
    "version": 3
   },
   "file_extension": ".py",
   "mimetype": "text/x-python",
   "name": "python",
   "nbconvert_exporter": "python",
   "pygments_lexer": "ipython3",
   "version": "3.5.3"
  }
 },
 "nbformat": 4,
 "nbformat_minor": 2
}
