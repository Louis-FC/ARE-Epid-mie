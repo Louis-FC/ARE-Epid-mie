{
 "cells": [
  {
   "cell_type": "markdown",
   "metadata": {},
   "source": [
    "# <center>Dynamique des épidémies\n"
   ]
  },
  {
   "cell_type": "markdown",
   "metadata": {},
   "source": [
    "On commence par importer les bibliothèques nécessaires à l'éxécution du programme"
   ]
  },
  {
   "cell_type": "code",
   "execution_count": 1,
   "metadata": {},
   "outputs": [],
   "source": [
    "import numpy as np\n",
    "import random\n",
    "import matplotlib.pyplot as plt\n",
    "import time\n",
    "import imageio"
   ]
  },
  {
   "cell_type": "markdown",
   "metadata": {},
   "source": [
    "On initialise ensuite les paramètres de l'expérience.\n",
    "Pour commencer, on défini les couleurs dans lesquelles nos matrices d'états et de comportements seront affichées ainsi que leur taille."
   ]
  },
  {
   "cell_type": "code",
   "execution_count": 14,
   "metadata": {},
   "outputs": [],
   "source": [
    "couleurs_etat=['green','blue','red'] #Couleurs disponibles à la modélisation des états \n",
    "couleurs_comportement=['green','green','orange','orange','yellow','red']#Couleurs disponibles à la modélisation des comportements\n",
    "NB_LIGNES=100 #Nombre de lignes du tableau\n",
    "NB_COLONNES=100 #Nombre de colonnes du tableau"
   ]
  },
  {
   "cell_type": "markdown",
   "metadata": {},
   "source": [
    "Différentes probabilités nous seront nécessaires pour initialiser les cases de certaines de nos matrices."
   ]
  },
  {
   "cell_type": "code",
   "execution_count": 3,
   "metadata": {},
   "outputs": [],
   "source": [
    "PROB_INFECTE = 0.1 #Probabilité d'être infecté au premier tour\n",
    "PROB_REMISSION = 0.05 #Probabilité d'être en rémission au premier tour\n",
    "PROB_COMPORTEMENT_2 = 0.1 #Probabilité d'avoir le comportement 2\n",
    "PROB_COMPORTEMENT_4 = 0.05 #Probabilité d'avoir le comportement 4\n",
    "PROB_COMPORTEMENT_5 = 0.05 #Probabilité d'avoir le comportement 5"
   ]
  },
  {
   "cell_type": "markdown",
   "metadata": {},
   "source": [
    "On détermine les caractéristiques des clusters qu'on voudrait créer."
   ]
  },
  {
   "cell_type": "code",
   "execution_count": 4,
   "metadata": {},
   "outputs": [],
   "source": [
    "#Coordonnées du Cluster d'états\n",
    "X_CLUSTER_ETAT = 0 \n",
    "Y_CLUSTER_ETAT = 0\n",
    "#Coordonnées du Cluster de comportement\n",
    "X_CLUSTER_COMPORTEMENT = 0\n",
    "Y_CLUSTER_COMPORTEMENT = 0\n",
    "#Taille des clusters\n",
    "TAILLE_CLUSTER_ETAT = 0\n",
    "TAILLE_CLUSTER_COMPORTEMENT = 15\n",
    "#Etat des clusters\n",
    "ETAT_CLUSTER_ETAT = 0\n",
    "ETAT_CLUSTER_COMPORTEMENT = 5"
   ]
  },
  {
   "cell_type": "markdown",
   "metadata": {},
   "source": [
    "On liste ensuite les différents paramètres liés à l'évolution du plateau."
   ]
  },
  {
   "cell_type": "code",
   "execution_count": 13,
   "metadata": {},
   "outputs": [],
   "source": [
    "SEUIL_EPIDEMIQUE = 20\n",
    "PROB_INFECTE_INCREMENTATION = [0.75,0.9,0.5,0.65,0.75,0.5] #Probabilité d'incrémenter son compteur pour passer d'infécté à personne en rémission selon le comportement\n",
    "PROB_REMISSION_INCREMENTATION = [0.75,0.9,0.5,0.65,0.75,0.5] #Probabilité d'incrémenter son compteur pour passer de personne en rémission à personne saine selon le comportement\n",
    "TAUX_INFECTION = [6,8,4,5,6,4] #Valeur minimum d'infection autour du sujet pour infecter celui-ci selon son comportement\n",
    "TAUX_REINFECTION = [4,5,3,4,4,3] #Nombre d'infectés minimums necéssaires à la réinfection du sujet si celui-ci est en rémission selon son comportement\n",
    "TEMPS_INFECTE = [3,2,5,4,3,5] #Nombre de tours nécessiares à une infecté pour passer en rémission selon son comportement\n",
    "TEMPS_REMISSION = [3,2,5,4,3,5] #Nombre de tours nécessiares à une personne en rémission pour redevenir saine selon son comportement\n",
    "TEMPS_IMMUNISE = 3 #Nombre de tours d'immunité à la fin d'une infection\n",
    "NB_REINFECTION=2 #Nombre de réinfections possible avant l'immunité du sujet\n",
    "NB_INFECTES_TOUR_SUIVANT=0 #Nombre d'infectés à un instant t+1\n",
    "\n",
    "NB_TOURS = 1 #Nombre de tours de simulation"
   ]
  },
  {
   "cell_type": "markdown",
   "metadata": {},
   "source": [
    "On commence tout d'abord par coder deux fonctions nous permettant d'obtenir différents nombres aléatoires selon une répartition non-équiprobable."
   ]
  },
  {
   "cell_type": "code",
   "execution_count": 6,
   "metadata": {},
   "outputs": [],
   "source": [
    "def rand_prob_infecte(prob1, prob2):\n",
    "    #Définie un nombre aleatoire correspondant à un état\n",
    "    \"\"\"Prob doit être donnée en frequence\"\"\"\n",
    "    res = random.random()\n",
    "    if res>prob1+prob2:\n",
    "        return 0\n",
    "    if res>prob2:\n",
    "        return 1\n",
    "    return 2\n",
    "        \n",
    "####################################################################################################################\n",
    "\n",
    "def rand_prob_comportement(prob1, prob2, prob3):\n",
    "    #Définie un nombre aléatoire correspondant à un comportement\n",
    "    res = random.random()\n",
    "    if res>prob1+prob2+prob3:\n",
    "        return 0\n",
    "    if res>prob2+prob3:\n",
    "        return 2\n",
    "    if res>prob3:\n",
    "        return 4\n",
    "    return 5\n",
    "####################################################################################################################\n",
    "\n",
    "def incrementation_alea(prob):\n",
    "    #Renvoie aléatoirement 0 ou 1 avec une probabilité prob \n",
    "    res = random.random()\n",
    "    if res>prob:\n",
    "        return 0\n",
    "    return 1"
   ]
  },
  {
   "cell_type": "markdown",
   "metadata": {},
   "source": [
    "Il convient ensuite d'initialiser le plateau de manière aléatoire puis d'utiliser une fonction permettant de créer des clusters."
   ]
  },
  {
   "cell_type": "code",
   "execution_count": 7,
   "metadata": {},
   "outputs": [],
   "source": [
    "def ini_plateau(ligne,colonne):\n",
    "    #Initialise un plateau de jeu de la taille indiquée\n",
    "    plateau = np.zeros([4,ligne,colonne]).astype(int)\n",
    "    for l in range(ligne):\n",
    "        for c in range(colonne):\n",
    "            plateau[0][l][c]=rand_prob_infecte(PROB_REMISSION, PROB_INFECTE)\n",
    "            plateau[3][l][c]=rand_prob_comportement(PROB_COMPORTEMENT_2,PROB_COMPORTEMENT_4,PROB_COMPORTEMENT_5)\n",
    "    return plateau\n",
    "\n",
    "####################################################################################################################\n",
    "\n",
    "def cluster(plateau,x,y,cote,matrice,etat):\n",
    "    #Créer un cluster carré selon des coordonnées de départ un côté et un état dans la matrice souhaitée\n",
    "    ligne=plateau.shape[1]\n",
    "    colonne=plateau.shape[2]\n",
    "    for l in range(x+1,x+cote+1):\n",
    "        for c in range(y+1,y+cote+1):\n",
    "            plateau[matrice][(x+l-1)%ligne][(y+c-1)%colonne] = etat\n",
    "    return plateau"
   ]
  },
  {
   "cell_type": "markdown",
   "metadata": {},
   "source": [
    "Il est ensuite utile d'avoir des fonctions pour calculer le nombre d'infectés ainsi que leur pourcentage."
   ]
  },
  {
   "cell_type": "code",
   "execution_count": 8,
   "metadata": {},
   "outputs": [],
   "source": [
    "def nb_infectes(plateau):\n",
    "    #Retourne le nombre d'individus infectés sur le plateau\n",
    "    nb_inf = 0\n",
    "    ligne=plateau.shape[1]\n",
    "    colonne=plateau.shape[2]\n",
    "    for l in range(ligne):\n",
    "        for c in range(colonne):\n",
    "            if plateau[0][l][c] == 2:\n",
    "                nb_inf+=1\n",
    "    return nb_inf\n",
    "\n",
    "#####################################################################################################################\n",
    "\n",
    "def pourcentage_infec(plateau):\n",
    "    #Renvoie le pourcentage d'individus infectés sur le plateau\n",
    "    ligne=plateau.shape[1]\n",
    "    colonne=plateau.shape[2]\n",
    "    return nb_infectes(plateau)/(ligne*colonne)*100\n",
    "\n",
    "#####################################################################################################################\n",
    "\n",
    "def nouv_cas_infec(plateau,nouv_plateau):\n",
    "    #Retourne le nombre de nouvelles infections entre deux tours\n",
    "    ligne=plateau.shape[1]\n",
    "    colonne=plateau.shape[2]\n",
    "    nouv_cas=0\n",
    "    for l in range(ligne):\n",
    "        for c in range(colonne):\n",
    "            if plateau[0][l][c] != 2 and nouv_plateau[0][l][c] == 2:\n",
    "                nouv_cas+=1\n",
    "    return nouv_cas"
   ]
  },
  {
   "cell_type": "markdown",
   "metadata": {},
   "source": [
    "Vient ensuite le moment de faire évoluer le plateau en extrayant les données sur les voisins dans une matrice externe."
   ]
  },
  {
   "cell_type": "code",
   "execution_count": 9,
   "metadata": {},
   "outputs": [],
   "source": [
    "def matrice_voisins(l,c,plateau,nouv_infectes):\n",
    "    \"\"\"Extrait la matrice 3x3 autour de la coordonée choisie, \n",
    "    puis applique à la cellule centrale les règles d'évolution,\n",
    "    et retourne la liste contenant son état et son compteur après l'évolution\"\"\"\n",
    "    \n",
    "    #EXTRACTION\n",
    "        #Création d'un plateau 3x3\n",
    "    nbr_ligne=plateau.shape[1]\n",
    "    nbr_colonne=plateau.shape[2]\n",
    "    matrice=np.zeros([4,3,3], dtype=int)\n",
    "        #Remplissage du nouveau plateau\n",
    "    for x in range(3):\n",
    "        for y in range(3):\n",
    "            matrice[0][x][y] = plateau[0][(l+x-1)%nbr_ligne][(c+y-1)%nbr_colonne]\n",
    "    #Prise en compte des changements de comportements dûs au dépassement du seuil épidémique  \n",
    "    if nouv_infectes >= SEUIL_EPIDEMIQUE:\n",
    "        if plateau[3][l][c] == 0 or plateau[3][l][c] == 2:\n",
    "            matrice[3][1][1] = plateau[3][l][c]+1\n",
    "        else:\n",
    "            matrice[3][1][1] = plateau[3][l][c]\n",
    "    else:\n",
    "            matrice[3][1][1] = plateau[3][l][c]\n",
    "    matrice[1][1][1] = plateau[1][l][c]\n",
    "    matrice[2][1][1] = plateau[2][l][c]\n",
    "    \n",
    "    #ANALYSE DU TABLEAU\n",
    "#On initialise la somme à l'opposé de la valeur de la cellule centrale\n",
    "#pour que cette valeur s'annule lorsqu'on parcourt le tableau\n",
    "    somme=-matrice[0][1][1]\n",
    "    nb_infectes=0\n",
    "    for x in range(3):\n",
    "        for y in range(3):\n",
    "            somme+=matrice[0][x][y]\n",
    "            if matrice[0][x][y]==2:\n",
    "                nb_infectes+=1\n",
    "    \n",
    "    #EVOLUTION\n",
    "        #Personne saine\n",
    "    if matrice[0][1][1]==0:\n",
    "        if matrice[1][1][1]==0:\n",
    "            if somme>=TAUX_INFECTION[matrice[3][1][1]]:\n",
    "                matrice[0][1][1]=2\n",
    "        else:\n",
    "            matrice[1][1][1]-=1\n",
    "    \n",
    "        #Personne infectée\n",
    "    else:\n",
    "        if matrice[0][1][1]==2:\n",
    "            if matrice[1][1][1]==TEMPS_INFECTE[matrice[3][1][1]]:\n",
    "                matrice[0][1][1]=1\n",
    "                matrice[1][1][1]=0\n",
    "            else:\n",
    "                matrice[1][1][1]+=incrementation_alea(PROB_INFECTE_INCREMENTATION[matrice[3][1][1]])\n",
    "        \n",
    "        #Personne en rémission\n",
    "        else:\n",
    "            if matrice[0][1][1]==1:\n",
    "                if matrice[1][1][1]==TEMPS_REMISSION[matrice[3][1][1]]:\n",
    "                    matrice[0][1][1]=0\n",
    "                    matrice[1][1][1]=TEMPS_IMMUNISE\n",
    "                    matrice[2][1][1]=0\n",
    "                else:\n",
    "                    if matrice[2][1][1]<NB_REINFECTION:\n",
    "                        if nb_infectes>=TAUX_REINFECTION[matrice[3][1][1]]:\n",
    "                            matrice[0][1][1]=2\n",
    "                            matrice[1][1][1]=0\n",
    "                            matrice[2][1][1]+=1\n",
    "                        else:\n",
    "                            matrice[1][1][1]+=incrementation_alea(PROB_REMISSION_INCREMENTATION[matrice[3][1][1]])\n",
    "                    else:\n",
    "                        matrice[1][1][1]+=incrementation_alea(PROB_REMISSION_INCREMENTATION[matrice[3][1][1]])\n",
    "                        \n",
    "    #Retour de la liste résultat\n",
    "    etat=matrice[0][1][1]\n",
    "    timer=matrice[1][1][1]\n",
    "    reinfection=matrice[2][1][1]\n",
    "    comportement=matrice[3][1][1]\n",
    "    return [etat,timer,reinfection,comportement]\n",
    "\n",
    "\n",
    "\n",
    "#####################################################################################################################\n",
    "\n",
    "\n",
    "def evolution(ancien_plateau,plateau):\n",
    "#    Génère la grille à l'étape suivante\n",
    "    new_plateau = np.zeros(plateau.shape).astype(int)\n",
    "    ligne=new_plateau.shape[1]\n",
    "    colonne=new_plateau.shape[2]\n",
    "    nouv_infectes = nouv_cas_infec(ancien_plateau,plateau)\n",
    "    for l in range(ligne):\n",
    "        for c in range(colonne):\n",
    "            voisins=matrice_voisins(l,c,plateau,nouv_infectes)\n",
    "            new_plateau[0][l][c]=voisins[0]\n",
    "            new_plateau[1][l][c]=voisins[1]\n",
    "            new_plateau[2][l][c]=voisins[2]\n",
    "            new_plateau[3][l][c]=voisins[3]\n",
    "    return new_plateau \n",
    "\n"
   ]
  },
  {
   "cell_type": "markdown",
   "metadata": {},
   "source": [
    "La partie suivante contient les différentes fonctions permettant d'afficher le plateau et de le sauvegarder. La dernière permet elle de créer une animation à partir de ses différentes images. "
   ]
  },
  {
   "cell_type": "code",
   "execution_count": 10,
   "metadata": {},
   "outputs": [],
   "source": [
    "def sauvegarder_image_etat(plateau,etape,afficher=False):\n",
    "    #Sauvegarde le graphique de la matrice état et l'affiche si demandé\n",
    "    # Récupère la taille du plateau pour pouvoir le parcourir\n",
    "    ligne=plateau.shape[1]\n",
    "    colonne=plateau.shape[2]\n",
    "    for l in range(ligne):\n",
    "        for c in range(colonne):\n",
    "            \"\"\" Affiche le point de coordonnée l,c de la couleur qui lui est associé\"\"\" \n",
    "            plt.scatter(c,-l,c=couleurs_etat[plateau[0][l][c]])\n",
    "            \"\"\" Notez l'inversion du l et du c dans les coordonnées ainsi que\n",
    "            l'apparition d'un signe - devant le l afin de respecter la configuration\n",
    "            d'affichage des array numpy\"\"\"\n",
    "    #Sauvegarde de l'image\n",
    "    nom_image=(\"Imagerie//etape_{}.png\".format(etape))\n",
    "    plt.savefig(nom_image)\n",
    "    #Affichage de l'image si demandé \n",
    "    if afficher:\n",
    "        plt.show()\n",
    "    return nom_image\n",
    "\n",
    "#####################################################################################################################\n",
    "\n",
    "def sauvegarder_image_comportement(plateau,afficher=False):\n",
    "    #Sauvegarde le graphique de la matrice comportement et l'affiche si demandé\n",
    "    ligne=plateau.shape[1]\n",
    "    colonne=plateau.shape[2]\n",
    "    for l in range(ligne):\n",
    "        for c in range(colonne):\n",
    "            \"\"\" Affiche le point de coordonnée l,c de la couleur qui lui est associé\"\"\" \n",
    "            plt.scatter(c,-l,c=couleurs_comportement[plateau[3][l][c]])\n",
    "            \"\"\" Notez l'inversion du l et du c dans les coordonnées ainsi que\n",
    "            l'apparition d'un signe - devant le l afin de respecter la configuration\n",
    "            d'affichage des array numpy\"\"\"\n",
    "    nom_image=(\"Imagerie//comportement.png\")\n",
    "    plt.savefig(nom_image)\n",
    "    if afficher:\n",
    "        plt.show()\n",
    "\n",
    "#####################################################################################################################\n",
    "TEMPS_PAUSE = 1 #Temps de pause entre chaque image du gif en secondes\n",
    "def creation_gif(plateau,t_pause,images):\n",
    "    #Créé un gif du graphique des états en fonction du temps de pause et d'un tableau d'images\n",
    "    imageio.mimsave('Imagerie/animation.gif',images, duration=t_pause)"
   ]
  },
  {
   "cell_type": "markdown",
   "metadata": {},
   "source": [
    "Pour finir on met en relation les fonctions implémentées précedemment dans une fonction main."
   ]
  },
  {
   "cell_type": "code",
   "execution_count": 11,
   "metadata": {},
   "outputs": [],
   "source": [
    "def main(nb_tours,x1,y1,cote1,etat1,x2,y2,cote2,etat2,t_pause,afficher=False,gif=False,cluster_etat=False,cluster_comportement=False):\n",
    "    #Articule toutes les fonctions d'affichage du programme\n",
    "    images=[]\n",
    "    nouv_plateau=ini_plateau(NB_LIGNES,NB_COLONNES)\n",
    "    if cluster_etat:\n",
    "        nouv_plateau=cluster(nouv_plateau,x1,y1,cote1,0,etat1)\n",
    "    if cluster_comportement:\n",
    "        nouv_plateau=cluster(nouv_plateau,x2,y2,cote2,3,etat2)\n",
    "    if afficher:\n",
    "        print(\"\\nMatrice des comportements:\\n\")\n",
    "    sauvegarder_image_comportement(nouv_plateau,afficher)\n",
    "    ancien_plateau = nouv_plateau\n",
    "    NB_INFECTES_TOUR_SUIVANT=nb_infectes(nouv_plateau) \n",
    "    for i in range(nb_tours):\n",
    "        print(\"Tour {}:\\n\".format(i))\n",
    "        image=sauvegarder_image_etat(ancien_plateau,i,afficher)\n",
    "        print(\"Il y a \",nouv_cas_infec(ancien_plateau,nouv_plateau),\"nouveaux infectés\\n\")\n",
    "        plateau=evolution(ancien_plateau,nouv_plateau)\n",
    "        images.append(imageio.imread(image))\n",
    "        NB_INFECTES_TOUR_SUIVANT = nb_infectes(plateau)\n",
    "        print(\"Il y a {} infectés\".format(NB_INFECTES_TOUR_SUIVANT))\n",
    "        ancien_plateau = np.copy(nouv_plateau)\n",
    "        nouv_plateau = np.copy(plateau)\n",
    "    if gif:\n",
    "        creation_gif(plateau,t_pause,images)\n",
    "    "
   ]
  },
  {
   "cell_type": "markdown",
   "metadata": {},
   "source": [
    "Il reste seulement à appeler la fonction main."
   ]
  },
  {
   "cell_type": "code",
   "execution_count": 15,
   "metadata": {},
   "outputs": [
    {
     "name": "stdout",
     "output_type": "stream",
     "text": [
      "\n",
      "Matrice des comportements:\n",
      "\n"
     ]
    },
    {
     "data": {
      "image/png": "[encoded data removed]",
      "text/plain": [
       "<Figure size 432x288 with 1 Axes>"
      ]
     },
     "metadata": {
      "needs_background": "light"
     },
     "output_type": "display_data"
    },
    {
     "name": "stdout",
     "output_type": "stream",
     "text": [
      "Tour 0:\n",
      "\n"
     ]
    },
    {
     "data": {
      "image/png": "[encoded data removed]",
      "text/plain": [
       "<Figure size 432x288 with 1 Axes>"
      ]
     },
     "metadata": {
      "needs_background": "light"
     },
     "output_type": "display_data"
    },
    {
     "name": "stdout",
     "output_type": "stream",
     "text": [
      "Il y a  0 nouveaux infectés\n",
      "\n",
      "Il y a 1584 infectés\n",
      "durée d'exécution du programme:  221.038311958313 s\n"
     ]
    }
   ],
   "source": [
    "t0 = time.time() # Temps initial du programme\n",
    "\n",
    "\n",
    "main(NB_TOURS,X_CLUSTER_ETAT,Y_CLUSTER_ETAT,TAILLE_CLUSTER_ETAT,ETAT_CLUSTER_ETAT,X_CLUSTER_COMPORTEMENT,Y_CLUSTER_COMPORTEMENT,TAILLE_CLUSTER_COMPORTEMENT,ETAT_CLUSTER_COMPORTEMENT,TEMPS_PAUSE,True,False,False,False)\n",
    "\n",
    "\n",
    "tf = time.time() #Temps final\n",
    "print(\"durée d'exécution du programme: \",tf - t0,\"s\") #Affiche la durée d'execution du programme"
   ]
  }
 ],
 "metadata": {
  "kernelspec": {
   "display_name": "Python 3",
   "language": "python",
   "name": "python3"
  },
  "language_info": {
   "codemirror_mode": {
    "name": "ipython",
    "version": 3
   },
   "file_extension": ".py",
   "mimetype": "text/x-python",
   "name": "python",
   "nbconvert_exporter": "python",
   "pygments_lexer": "ipython3",
   "version": "3.6.6"
  }
 },
 "nbformat": 4,
 "nbformat_minor": 2
}
